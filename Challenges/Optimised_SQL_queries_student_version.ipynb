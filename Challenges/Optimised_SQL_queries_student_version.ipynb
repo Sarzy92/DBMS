{
 "cells": [
  {
   "cell_type": "markdown",
   "metadata": {},
   "source": [
    "# Optimised SQL Queries: Flights Database\n",
    "© Explore Data Science Academy"
   ]
  },
  {
   "cell_type": "markdown",
   "metadata": {},
   "source": [
    "## Instructions to Students\n",
    "\n",
    "This challenge is designed to determine how much you have learned so far and will test your knowledge on Optimised SQL queries.\n",
    "\n",
    "The answers for this challenge should be selected on Athena for each corresponding Multiple Choice Question. The questions are included in this notebook and are numbered according to the Athena Questions, the options to choose from for each question has also been included.\n",
    "\n",
    "Do not add or remove cells in this notebook. Do not edit or remove the `%%sql` comment as it is required to run each cell.\n",
    "\n",
    "**_Good Luck!_**"
   ]
  },
  {
   "cell_type": "markdown",
   "metadata": {},
   "source": [
    "## Honour Code\n",
    "\n",
    "I HUMPHERY, OJO, confirm - by submitting this document - that the solutions in this notebook are a result of my own work and that I abide by the EDSA honour code (https://drive.google.com/file/d/1QDCjGZJ8-FmJE3bZdIQNwnJyQKPhHZBn/view?usp=sharing).\n",
    "\n",
    "Non-compliance with the honour code constitutes a material breach of contract."
   ]
  },
  {
   "cell_type": "markdown",
   "metadata": {},
   "source": [
    "## The flights database\n",
    "\n",
    "Optimised queries are vital for increasing database performance, saving resources and reducing network overhead. In this challenge we will be  using actual US flights data to illustrate the use of optimisation techniques with large amounts of data. This database consists of information relating to flights, carriers, airports and planes. \n",
    "\n",
    "<img src=\"https://github.com/Explore-AI/Pictures/blob/master/Flights.jpg?raw=true\" width=50%/> \n",
    "\n",
    "\n",
    "Below is an Entity Relationship Diagram (ERD) of the flights database:\n",
    "\n",
    "<img src=\"https://github.com/Explore-AI/Pictures/blob/master/flights_ER_diagram.png?raw=true\" width=40%/>\n",
    "\n",
    "As can be seen from the ERD, the flights database consists of four tables:\n",
    "- **flights**: all domestic flights in the USA in 2008\n",
    "- **carriers**: lookup table for all the carriers\n",
    "- **planes**: lookup table for all the planes \n",
    "- **airports**: lookup table for all the airports\n",
    "\n",
    "For this challenge you will apply the use of optimised SQL queries to gain insight into the flights database. "
   ]
  },
  {
   "cell_type": "markdown",
   "metadata": {},
   "source": [
    "## Loading the database\n",
    "\n",
    "Before you start producing optimised SQL queries, you need to prepare your SQL environment. You can do this by loading in the magic command `%load_ext sql` as we've seen in previous trains. Next you can go ahead and load in your database. To do this you will need to ensure you have downloaded the `flight.db`sqlite file from Athena and have stored it in a known location.  "
   ]
  },
  {
   "cell_type": "code",
   "execution_count": 1,
   "metadata": {},
   "outputs": [],
   "source": [
    "%load_ext sql"
   ]
  },
  {
   "cell_type": "code",
   "execution_count": 2,
   "metadata": {},
   "outputs": [],
   "source": [
    "%%sql \n",
    "\n",
    "sqlite:///flights.db"
   ]
  },
  {
   "cell_type": "markdown",
   "metadata": {},
   "source": [
    "## Exploring the database \n",
    "\n",
    "Before we begin this challenge we can go ahead and take a look at the composition of each table in the flights database"
   ]
  },
  {
   "cell_type": "code",
   "execution_count": 3,
   "metadata": {},
   "outputs": [
    {
     "name": "stdout",
     "output_type": "stream",
     "text": [
      " * sqlite:///flights.db\n",
      "Done.\n"
     ]
    },
    {
     "data": {
      "text/html": [
       "<table>\n",
       "    <tr>\n",
       "        <th>cid</th>\n",
       "        <th>name</th>\n",
       "        <th>type</th>\n",
       "        <th>notnull</th>\n",
       "        <th>dflt_value</th>\n",
       "        <th>pk</th>\n",
       "    </tr>\n",
       "    <tr>\n",
       "        <td>0</td>\n",
       "        <td>index</td>\n",
       "        <td>integer</td>\n",
       "        <td>0</td>\n",
       "        <td>NULL</td>\n",
       "        <td>0</td>\n",
       "    </tr>\n",
       "    <tr>\n",
       "        <td>1</td>\n",
       "        <td>Date</td>\n",
       "        <td>longtext</td>\n",
       "        <td>0</td>\n",
       "        <td>None</td>\n",
       "        <td>0</td>\n",
       "    </tr>\n",
       "    <tr>\n",
       "        <td>2</td>\n",
       "        <td>DayOfWeek</td>\n",
       "        <td>integer</td>\n",
       "        <td>0</td>\n",
       "        <td>NULL</td>\n",
       "        <td>0</td>\n",
       "    </tr>\n",
       "    <tr>\n",
       "        <td>3</td>\n",
       "        <td>DepTime</td>\n",
       "        <td>double</td>\n",
       "        <td>0</td>\n",
       "        <td>NULL</td>\n",
       "        <td>0</td>\n",
       "    </tr>\n",
       "    <tr>\n",
       "        <td>4</td>\n",
       "        <td>CRSDepTime</td>\n",
       "        <td>longtext</td>\n",
       "        <td>0</td>\n",
       "        <td>None</td>\n",
       "        <td>0</td>\n",
       "    </tr>\n",
       "    <tr>\n",
       "        <td>5</td>\n",
       "        <td>ArrTime</td>\n",
       "        <td>double</td>\n",
       "        <td>0</td>\n",
       "        <td>NULL</td>\n",
       "        <td>0</td>\n",
       "    </tr>\n",
       "    <tr>\n",
       "        <td>6</td>\n",
       "        <td>CRSArrTime</td>\n",
       "        <td>longtext</td>\n",
       "        <td>0</td>\n",
       "        <td>None</td>\n",
       "        <td>0</td>\n",
       "    </tr>\n",
       "    <tr>\n",
       "        <td>7</td>\n",
       "        <td>UniqueCarrier</td>\n",
       "        <td>longtext</td>\n",
       "        <td>0</td>\n",
       "        <td>None</td>\n",
       "        <td>0</td>\n",
       "    </tr>\n",
       "    <tr>\n",
       "        <td>8</td>\n",
       "        <td>FlightNum</td>\n",
       "        <td>longtext</td>\n",
       "        <td>0</td>\n",
       "        <td>None</td>\n",
       "        <td>0</td>\n",
       "    </tr>\n",
       "    <tr>\n",
       "        <td>9</td>\n",
       "        <td>TailNum</td>\n",
       "        <td>longtext</td>\n",
       "        <td>0</td>\n",
       "        <td>None</td>\n",
       "        <td>0</td>\n",
       "    </tr>\n",
       "    <tr>\n",
       "        <td>10</td>\n",
       "        <td>ActualElapsedTime</td>\n",
       "        <td>double</td>\n",
       "        <td>0</td>\n",
       "        <td>NULL</td>\n",
       "        <td>0</td>\n",
       "    </tr>\n",
       "    <tr>\n",
       "        <td>11</td>\n",
       "        <td>CRSElapsedTime</td>\n",
       "        <td>longtext</td>\n",
       "        <td>0</td>\n",
       "        <td>None</td>\n",
       "        <td>0</td>\n",
       "    </tr>\n",
       "    <tr>\n",
       "        <td>12</td>\n",
       "        <td>AirTime</td>\n",
       "        <td>longtext</td>\n",
       "        <td>0</td>\n",
       "        <td>None</td>\n",
       "        <td>0</td>\n",
       "    </tr>\n",
       "    <tr>\n",
       "        <td>13</td>\n",
       "        <td>ArrDelay</td>\n",
       "        <td>double</td>\n",
       "        <td>0</td>\n",
       "        <td>NULL</td>\n",
       "        <td>0</td>\n",
       "    </tr>\n",
       "    <tr>\n",
       "        <td>14</td>\n",
       "        <td>DepDelay</td>\n",
       "        <td>double</td>\n",
       "        <td>0</td>\n",
       "        <td>NULL</td>\n",
       "        <td>0</td>\n",
       "    </tr>\n",
       "    <tr>\n",
       "        <td>15</td>\n",
       "        <td>Origin</td>\n",
       "        <td>longtext</td>\n",
       "        <td>0</td>\n",
       "        <td>None</td>\n",
       "        <td>0</td>\n",
       "    </tr>\n",
       "    <tr>\n",
       "        <td>16</td>\n",
       "        <td>Dest</td>\n",
       "        <td>longtext</td>\n",
       "        <td>0</td>\n",
       "        <td>None</td>\n",
       "        <td>0</td>\n",
       "    </tr>\n",
       "    <tr>\n",
       "        <td>17</td>\n",
       "        <td>Distance</td>\n",
       "        <td>integer</td>\n",
       "        <td>0</td>\n",
       "        <td>NULL</td>\n",
       "        <td>0</td>\n",
       "    </tr>\n",
       "    <tr>\n",
       "        <td>18</td>\n",
       "        <td>TaxiIn</td>\n",
       "        <td>longtext</td>\n",
       "        <td>0</td>\n",
       "        <td>None</td>\n",
       "        <td>0</td>\n",
       "    </tr>\n",
       "    <tr>\n",
       "        <td>19</td>\n",
       "        <td>TaxiOut</td>\n",
       "        <td>longtext</td>\n",
       "        <td>0</td>\n",
       "        <td>None</td>\n",
       "        <td>0</td>\n",
       "    </tr>\n",
       "    <tr>\n",
       "        <td>20</td>\n",
       "        <td>Cancelled</td>\n",
       "        <td>longtext</td>\n",
       "        <td>0</td>\n",
       "        <td>None</td>\n",
       "        <td>0</td>\n",
       "    </tr>\n",
       "    <tr>\n",
       "        <td>21</td>\n",
       "        <td>CancellationCode</td>\n",
       "        <td>longtext</td>\n",
       "        <td>0</td>\n",
       "        <td>None</td>\n",
       "        <td>0</td>\n",
       "    </tr>\n",
       "    <tr>\n",
       "        <td>22</td>\n",
       "        <td>Diverted</td>\n",
       "        <td>longtext</td>\n",
       "        <td>0</td>\n",
       "        <td>None</td>\n",
       "        <td>0</td>\n",
       "    </tr>\n",
       "    <tr>\n",
       "        <td>23</td>\n",
       "        <td>CarrierDelay</td>\n",
       "        <td>longtext</td>\n",
       "        <td>0</td>\n",
       "        <td>None</td>\n",
       "        <td>0</td>\n",
       "    </tr>\n",
       "    <tr>\n",
       "        <td>24</td>\n",
       "        <td>WeatherDelay</td>\n",
       "        <td>longtext</td>\n",
       "        <td>0</td>\n",
       "        <td>None</td>\n",
       "        <td>0</td>\n",
       "    </tr>\n",
       "    <tr>\n",
       "        <td>25</td>\n",
       "        <td>NASDelay</td>\n",
       "        <td>longtext</td>\n",
       "        <td>0</td>\n",
       "        <td>None</td>\n",
       "        <td>0</td>\n",
       "    </tr>\n",
       "    <tr>\n",
       "        <td>26</td>\n",
       "        <td>SecurityDelay</td>\n",
       "        <td>longtext</td>\n",
       "        <td>0</td>\n",
       "        <td>None</td>\n",
       "        <td>0</td>\n",
       "    </tr>\n",
       "    <tr>\n",
       "        <td>27</td>\n",
       "        <td>LateAircraftDelay</td>\n",
       "        <td>longtext</td>\n",
       "        <td>0</td>\n",
       "        <td>None</td>\n",
       "        <td>0</td>\n",
       "    </tr>\n",
       "</table>"
      ],
      "text/plain": [
       "[(0, 'index', 'integer', 0, 'NULL', 0),\n",
       " (1, 'Date', 'longtext', 0, None, 0),\n",
       " (2, 'DayOfWeek', 'integer', 0, 'NULL', 0),\n",
       " (3, 'DepTime', 'double', 0, 'NULL', 0),\n",
       " (4, 'CRSDepTime', 'longtext', 0, None, 0),\n",
       " (5, 'ArrTime', 'double', 0, 'NULL', 0),\n",
       " (6, 'CRSArrTime', 'longtext', 0, None, 0),\n",
       " (7, 'UniqueCarrier', 'longtext', 0, None, 0),\n",
       " (8, 'FlightNum', 'longtext', 0, None, 0),\n",
       " (9, 'TailNum', 'longtext', 0, None, 0),\n",
       " (10, 'ActualElapsedTime', 'double', 0, 'NULL', 0),\n",
       " (11, 'CRSElapsedTime', 'longtext', 0, None, 0),\n",
       " (12, 'AirTime', 'longtext', 0, None, 0),\n",
       " (13, 'ArrDelay', 'double', 0, 'NULL', 0),\n",
       " (14, 'DepDelay', 'double', 0, 'NULL', 0),\n",
       " (15, 'Origin', 'longtext', 0, None, 0),\n",
       " (16, 'Dest', 'longtext', 0, None, 0),\n",
       " (17, 'Distance', 'integer', 0, 'NULL', 0),\n",
       " (18, 'TaxiIn', 'longtext', 0, None, 0),\n",
       " (19, 'TaxiOut', 'longtext', 0, None, 0),\n",
       " (20, 'Cancelled', 'longtext', 0, None, 0),\n",
       " (21, 'CancellationCode', 'longtext', 0, None, 0),\n",
       " (22, 'Diverted', 'longtext', 0, None, 0),\n",
       " (23, 'CarrierDelay', 'longtext', 0, None, 0),\n",
       " (24, 'WeatherDelay', 'longtext', 0, None, 0),\n",
       " (25, 'NASDelay', 'longtext', 0, None, 0),\n",
       " (26, 'SecurityDelay', 'longtext', 0, None, 0),\n",
       " (27, 'LateAircraftDelay', 'longtext', 0, None, 0)]"
      ]
     },
     "execution_count": 3,
     "metadata": {},
     "output_type": "execute_result"
    }
   ],
   "source": [
    "%%sql \n",
    "\n",
    "PRAGMA table_info(flights);"
   ]
  },
  {
   "cell_type": "code",
   "execution_count": 4,
   "metadata": {},
   "outputs": [
    {
     "name": "stdout",
     "output_type": "stream",
     "text": [
      " * sqlite:///flights.db\n",
      "Done.\n"
     ]
    },
    {
     "data": {
      "text/html": [
       "<table>\n",
       "    <tr>\n",
       "        <th>cid</th>\n",
       "        <th>name</th>\n",
       "        <th>type</th>\n",
       "        <th>notnull</th>\n",
       "        <th>dflt_value</th>\n",
       "        <th>pk</th>\n",
       "    </tr>\n",
       "    <tr>\n",
       "        <td>0</td>\n",
       "        <td>Code</td>\n",
       "        <td>varchar(10)</td>\n",
       "        <td>0</td>\n",
       "        <td>NULL</td>\n",
       "        <td>0</td>\n",
       "    </tr>\n",
       "    <tr>\n",
       "        <td>1</td>\n",
       "        <td>Description</td>\n",
       "        <td>varchar(100)</td>\n",
       "        <td>0</td>\n",
       "        <td>NULL</td>\n",
       "        <td>0</td>\n",
       "    </tr>\n",
       "</table>"
      ],
      "text/plain": [
       "[(0, 'Code', 'varchar(10)', 0, 'NULL', 0),\n",
       " (1, 'Description', 'varchar(100)', 0, 'NULL', 0)]"
      ]
     },
     "execution_count": 4,
     "metadata": {},
     "output_type": "execute_result"
    }
   ],
   "source": [
    "%%sql \n",
    "\n",
    "PRAGMA table_info(carriers);"
   ]
  },
  {
   "cell_type": "code",
   "execution_count": 5,
   "metadata": {},
   "outputs": [
    {
     "name": "stdout",
     "output_type": "stream",
     "text": [
      " * sqlite:///flights.db\n",
      "Done.\n"
     ]
    },
    {
     "data": {
      "text/html": [
       "<table>\n",
       "    <tr>\n",
       "        <th>cid</th>\n",
       "        <th>name</th>\n",
       "        <th>type</th>\n",
       "        <th>notnull</th>\n",
       "        <th>dflt_value</th>\n",
       "        <th>pk</th>\n",
       "    </tr>\n",
       "    <tr>\n",
       "        <td>0</td>\n",
       "        <td>iata</td>\n",
       "        <td>varchar(10)</td>\n",
       "        <td>0</td>\n",
       "        <td>NULL</td>\n",
       "        <td>0</td>\n",
       "    </tr>\n",
       "    <tr>\n",
       "        <td>1</td>\n",
       "        <td>airport</td>\n",
       "        <td>varchar(100)</td>\n",
       "        <td>0</td>\n",
       "        <td>NULL</td>\n",
       "        <td>0</td>\n",
       "    </tr>\n",
       "    <tr>\n",
       "        <td>2</td>\n",
       "        <td>city</td>\n",
       "        <td>varchar(100)</td>\n",
       "        <td>0</td>\n",
       "        <td>NULL</td>\n",
       "        <td>0</td>\n",
       "    </tr>\n",
       "    <tr>\n",
       "        <td>3</td>\n",
       "        <td>state</td>\n",
       "        <td>varchar(50)</td>\n",
       "        <td>0</td>\n",
       "        <td>NULL</td>\n",
       "        <td>0</td>\n",
       "    </tr>\n",
       "    <tr>\n",
       "        <td>4</td>\n",
       "        <td>country</td>\n",
       "        <td>varchar(50)</td>\n",
       "        <td>0</td>\n",
       "        <td>NULL</td>\n",
       "        <td>0</td>\n",
       "    </tr>\n",
       "    <tr>\n",
       "        <td>5</td>\n",
       "        <td>lat</td>\n",
       "        <td>float(24,0)</td>\n",
       "        <td>0</td>\n",
       "        <td>NULL</td>\n",
       "        <td>0</td>\n",
       "    </tr>\n",
       "    <tr>\n",
       "        <td>6</td>\n",
       "        <td>long</td>\n",
       "        <td>float(24,0)</td>\n",
       "        <td>0</td>\n",
       "        <td>NULL</td>\n",
       "        <td>0</td>\n",
       "    </tr>\n",
       "</table>"
      ],
      "text/plain": [
       "[(0, 'iata', 'varchar(10)', 0, 'NULL', 0),\n",
       " (1, 'airport', 'varchar(100)', 0, 'NULL', 0),\n",
       " (2, 'city', 'varchar(100)', 0, 'NULL', 0),\n",
       " (3, 'state', 'varchar(50)', 0, 'NULL', 0),\n",
       " (4, 'country', 'varchar(50)', 0, 'NULL', 0),\n",
       " (5, 'lat', 'float(24,0)', 0, 'NULL', 0),\n",
       " (6, 'long', 'float(24,0)', 0, 'NULL', 0)]"
      ]
     },
     "execution_count": 5,
     "metadata": {},
     "output_type": "execute_result"
    }
   ],
   "source": [
    "%%sql \n",
    "\n",
    "PRAGMA table_info(airports);"
   ]
  },
  {
   "cell_type": "code",
   "execution_count": 6,
   "metadata": {},
   "outputs": [
    {
     "name": "stdout",
     "output_type": "stream",
     "text": [
      " * sqlite:///flights.db\n",
      "Done.\n"
     ]
    },
    {
     "data": {
      "text/html": [
       "<table>\n",
       "    <tr>\n",
       "        <th>cid</th>\n",
       "        <th>name</th>\n",
       "        <th>type</th>\n",
       "        <th>notnull</th>\n",
       "        <th>dflt_value</th>\n",
       "        <th>pk</th>\n",
       "    </tr>\n",
       "    <tr>\n",
       "        <td>0</td>\n",
       "        <td>tailnum</td>\n",
       "        <td>varchar(10)</td>\n",
       "        <td>0</td>\n",
       "        <td>NULL</td>\n",
       "        <td>0</td>\n",
       "    </tr>\n",
       "    <tr>\n",
       "        <td>1</td>\n",
       "        <td>type</td>\n",
       "        <td>varchar(100)</td>\n",
       "        <td>0</td>\n",
       "        <td>NULL</td>\n",
       "        <td>0</td>\n",
       "    </tr>\n",
       "    <tr>\n",
       "        <td>2</td>\n",
       "        <td>manufacturer</td>\n",
       "        <td>varchar(100)</td>\n",
       "        <td>0</td>\n",
       "        <td>NULL</td>\n",
       "        <td>0</td>\n",
       "    </tr>\n",
       "    <tr>\n",
       "        <td>3</td>\n",
       "        <td>issue_date</td>\n",
       "        <td>varchar(100)</td>\n",
       "        <td>0</td>\n",
       "        <td>NULL</td>\n",
       "        <td>0</td>\n",
       "    </tr>\n",
       "    <tr>\n",
       "        <td>4</td>\n",
       "        <td>model</td>\n",
       "        <td>varchar(50)</td>\n",
       "        <td>0</td>\n",
       "        <td>NULL</td>\n",
       "        <td>0</td>\n",
       "    </tr>\n",
       "    <tr>\n",
       "        <td>5</td>\n",
       "        <td>status</td>\n",
       "        <td>varchar(100)</td>\n",
       "        <td>0</td>\n",
       "        <td>NULL</td>\n",
       "        <td>0</td>\n",
       "    </tr>\n",
       "    <tr>\n",
       "        <td>6</td>\n",
       "        <td>aircraft_type</td>\n",
       "        <td>varchar(100)</td>\n",
       "        <td>0</td>\n",
       "        <td>NULL</td>\n",
       "        <td>0</td>\n",
       "    </tr>\n",
       "    <tr>\n",
       "        <td>7</td>\n",
       "        <td>engine_type</td>\n",
       "        <td>varchar(100)</td>\n",
       "        <td>0</td>\n",
       "        <td>NULL</td>\n",
       "        <td>0</td>\n",
       "    </tr>\n",
       "    <tr>\n",
       "        <td>8</td>\n",
       "        <td>year</td>\n",
       "        <td>longtext</td>\n",
       "        <td>0</td>\n",
       "        <td>None</td>\n",
       "        <td>0</td>\n",
       "    </tr>\n",
       "</table>"
      ],
      "text/plain": [
       "[(0, 'tailnum', 'varchar(10)', 0, 'NULL', 0),\n",
       " (1, 'type', 'varchar(100)', 0, 'NULL', 0),\n",
       " (2, 'manufacturer', 'varchar(100)', 0, 'NULL', 0),\n",
       " (3, 'issue_date', 'varchar(100)', 0, 'NULL', 0),\n",
       " (4, 'model', 'varchar(50)', 0, 'NULL', 0),\n",
       " (5, 'status', 'varchar(100)', 0, 'NULL', 0),\n",
       " (6, 'aircraft_type', 'varchar(100)', 0, 'NULL', 0),\n",
       " (7, 'engine_type', 'varchar(100)', 0, 'NULL', 0),\n",
       " (8, 'year', 'longtext', 0, None, 0)]"
      ]
     },
     "execution_count": 6,
     "metadata": {},
     "output_type": "execute_result"
    }
   ],
   "source": [
    "%%sql \n",
    "\n",
    "PRAGMA table_info(planes);"
   ]
  },
  {
   "cell_type": "markdown",
   "metadata": {},
   "source": [
    "## Questions on Optimised SQL Queries \n",
    "\n",
    "Now that you have an idea of what information each table contains, you can use the given cell below each question to execute your optimised SQL queries to find the correct output from the options provided for the multiple choice questions on Athena."
   ]
  },
  {
   "cell_type": "markdown",
   "metadata": {},
   "source": [
    "**Question 1**\n",
    "\n",
    "How many different carriers are there in total in the database?\n",
    "\n",
    "**Options:**\n",
    "- 1 252\n",
    "- 1491\n",
    "- 20\n",
    "- 37"
   ]
  },
  {
   "cell_type": "code",
   "execution_count": 11,
   "metadata": {},
   "outputs": [
    {
     "name": "stdout",
     "output_type": "stream",
     "text": [
      " * sqlite:///flights.db\n",
      "Done.\n"
     ]
    },
    {
     "data": {
      "text/html": [
       "<table>\n",
       "    <tr>\n",
       "        <th>count(description)</th>\n",
       "    </tr>\n",
       "    <tr>\n",
       "        <td>1491</td>\n",
       "    </tr>\n",
       "</table>"
      ],
      "text/plain": [
       "[(1491,)]"
      ]
     },
     "execution_count": 11,
     "metadata": {},
     "output_type": "execute_result"
    }
   ],
   "source": [
    "%%sql\n",
    "select count(description) from carriers\n"
   ]
  },
  {
   "cell_type": "markdown",
   "metadata": {},
   "source": [
    "**Question 2** \n",
    "\n",
    "How long was the longest delay before departure? \n",
    "\n",
    "**Options:**\n",
    "- 1355 min\n",
    "- 999 min\n",
    "- 1099 min\n",
    "- 588 min"
   ]
  },
  {
   "cell_type": "code",
   "execution_count": 15,
   "metadata": {},
   "outputs": [
    {
     "name": "stdout",
     "output_type": "stream",
     "text": [
      " * sqlite:///flights.db\n",
      "Done.\n"
     ]
    },
    {
     "data": {
      "text/html": [
       "<table>\n",
       "    <tr>\n",
       "        <th>DepDelay</th>\n",
       "    </tr>\n",
       "    <tr>\n",
       "        <td>1355.0</td>\n",
       "    </tr>\n",
       "    <tr>\n",
       "        <td>1275.0</td>\n",
       "    </tr>\n",
       "    <tr>\n",
       "        <td>1172.0</td>\n",
       "    </tr>\n",
       "    <tr>\n",
       "        <td>1154.0</td>\n",
       "    </tr>\n",
       "    <tr>\n",
       "        <td>1120.0</td>\n",
       "    </tr>\n",
       "    <tr>\n",
       "        <td>1120.0</td>\n",
       "    </tr>\n",
       "    <tr>\n",
       "        <td>1105.0</td>\n",
       "    </tr>\n",
       "    <tr>\n",
       "        <td>1099.0</td>\n",
       "    </tr>\n",
       "    <tr>\n",
       "        <td>1049.0</td>\n",
       "    </tr>\n",
       "    <tr>\n",
       "        <td>1036.0</td>\n",
       "    </tr>\n",
       "</table>"
      ],
      "text/plain": [
       "[(1355.0,),\n",
       " (1275.0,),\n",
       " (1172.0,),\n",
       " (1154.0,),\n",
       " (1120.0,),\n",
       " (1120.0,),\n",
       " (1105.0,),\n",
       " (1099.0,),\n",
       " (1049.0,),\n",
       " (1036.0,)]"
      ]
     },
     "execution_count": 15,
     "metadata": {},
     "output_type": "execute_result"
    }
   ],
   "source": [
    "%%sql \n",
    "select depdelay from flights\n",
    "order by depdelay DESC\n",
    "Limit 10;"
   ]
  },
  {
   "cell_type": "markdown",
   "metadata": {},
   "source": [
    "**Question 3** \n",
    "\n",
    "How many flights departed on the 28th of January 2008?\n",
    "\n",
    "**Options:**\n",
    "- 540 908\n",
    "- 20 149\n",
    "- 19 495\n",
    "- 18 056"
   ]
  },
  {
   "cell_type": "code",
   "execution_count": 25,
   "metadata": {},
   "outputs": [
    {
     "name": "stdout",
     "output_type": "stream",
     "text": [
      " * sqlite:///flights.db\n",
      "Done.\n"
     ]
    },
    {
     "data": {
      "text/html": [
       "<table>\n",
       "    <tr>\n",
       "        <th>count(deptime)</th>\n",
       "    </tr>\n",
       "    <tr>\n",
       "        <td>19495</td>\n",
       "    </tr>\n",
       "</table>"
      ],
      "text/plain": [
       "[(19495,)]"
      ]
     },
     "execution_count": 25,
     "metadata": {},
     "output_type": "execute_result"
    }
   ],
   "source": [
    "%%sql \n",
    "select count(deptime) from flights\n",
    "where date = '2008/1/28';\n",
    "\n"
   ]
  },
  {
   "cell_type": "markdown",
   "metadata": {},
   "source": [
    "**Question 4**\n",
    " \n",
    " What is the distance between Midway Airport (MDW) and Houston Airport (HOU)?\n",
    " \n",
    " **Options:**\n",
    " - 611 km\n",
    " - 972 km\n",
    " - 1 121 km\n",
    " - 937 km"
   ]
  },
  {
   "cell_type": "code",
   "execution_count": 27,
   "metadata": {},
   "outputs": [
    {
     "name": "stdout",
     "output_type": "stream",
     "text": [
      " * sqlite:///flights.db\n",
      "Done.\n"
     ]
    },
    {
     "data": {
      "text/html": [
       "<table>\n",
       "    <tr>\n",
       "        <th>Origin</th>\n",
       "        <th>Dest</th>\n",
       "        <th>Distance</th>\n",
       "    </tr>\n",
       "    <tr>\n",
       "        <td>MDW</td>\n",
       "        <td>HOU</td>\n",
       "        <td>937</td>\n",
       "    </tr>\n",
       "    <tr>\n",
       "        <td>MDW</td>\n",
       "        <td>HOU</td>\n",
       "        <td>937</td>\n",
       "    </tr>\n",
       "    <tr>\n",
       "        <td>MDW</td>\n",
       "        <td>HOU</td>\n",
       "        <td>937</td>\n",
       "    </tr>\n",
       "    <tr>\n",
       "        <td>MDW</td>\n",
       "        <td>HOU</td>\n",
       "        <td>937</td>\n",
       "    </tr>\n",
       "    <tr>\n",
       "        <td>MDW</td>\n",
       "        <td>HOU</td>\n",
       "        <td>937</td>\n",
       "    </tr>\n",
       "</table>"
      ],
      "text/plain": [
       "[('MDW', 'HOU', 937),\n",
       " ('MDW', 'HOU', 937),\n",
       " ('MDW', 'HOU', 937),\n",
       " ('MDW', 'HOU', 937),\n",
       " ('MDW', 'HOU', 937)]"
      ]
     },
     "execution_count": 27,
     "metadata": {},
     "output_type": "execute_result"
    }
   ],
   "source": [
    "%%sql\n",
    "\n",
    "select origin, dest, distance from flights\n",
    "where origin = 'MDW' and dest = 'HOU'\n",
    "limit 5;"
   ]
  },
  {
   "cell_type": "markdown",
   "metadata": {},
   "source": [
    "**Question 5**\n",
    "\n",
    "Which day of the week had the highest number of cancelled flights?(Note 1 = cancelled , 0 = not cancelled;)\n",
    "\n",
    "\n",
    "**Options:**\n",
    "- Monday(1)\n",
    "- Wednesday(3) \n",
    "- Saturday(6) \n",
    "- Thursday (4) "
   ]
  },
  {
   "cell_type": "code",
   "execution_count": 35,
   "metadata": {},
   "outputs": [
    {
     "name": "stdout",
     "output_type": "stream",
     "text": [
      " * sqlite:///flights.db\n",
      "Done.\n"
     ]
    },
    {
     "data": {
      "text/html": [
       "<table>\n",
       "    <tr>\n",
       "        <th>DayOfWeek</th>\n",
       "        <th>count(cancelled)</th>\n",
       "    </tr>\n",
       "    <tr>\n",
       "        <td>4</td>\n",
       "        <td>17308</td>\n",
       "    </tr>\n",
       "</table>"
      ],
      "text/plain": [
       "[(4, 17308)]"
      ]
     },
     "execution_count": 35,
     "metadata": {},
     "output_type": "execute_result"
    }
   ],
   "source": [
    "%%sql \n",
    "select dayofweek, count(cancelled) from flights\n",
    "where cancelled = 1\n",
    "\n"
   ]
  },
  {
   "cell_type": "markdown",
   "metadata": {},
   "source": [
    "**Question 6**\n",
    "\n",
    "How many airports have the word \"International\" in their name?\n",
    "\n",
    "**Options:**\n",
    "- 110\n",
    "- 124\n",
    "- 8\n",
    "- 2"
   ]
  },
  {
   "cell_type": "code",
   "execution_count": 40,
   "metadata": {},
   "outputs": [
    {
     "name": "stdout",
     "output_type": "stream",
     "text": [
      " * sqlite:///flights.db\n",
      "Done.\n"
     ]
    },
    {
     "data": {
      "text/html": [
       "<table>\n",
       "    <tr>\n",
       "        <th>count(airport)</th>\n",
       "    </tr>\n",
       "    <tr>\n",
       "        <td>124</td>\n",
       "    </tr>\n",
       "</table>"
      ],
      "text/plain": [
       "[(124,)]"
      ]
     },
     "execution_count": 40,
     "metadata": {},
     "output_type": "execute_result"
    }
   ],
   "source": [
    "%%sql\n",
    "\n",
    "select count(airport) from airports\n",
    "where airport like '%international%'"
   ]
  },
  {
   "cell_type": "markdown",
   "metadata": {},
   "source": [
    "**Question 7**\n",
    "\n",
    "What is the most produced model for the manufacturer \"BOEING\"?\n",
    "\n",
    "**Options:**\n",
    "- 717-200\n",
    "- 737-7H4\n",
    "- 757-222\n",
    "- 737-3H4"
   ]
  },
  {
   "cell_type": "code",
   "execution_count": 52,
   "metadata": {},
   "outputs": [
    {
     "name": "stdout",
     "output_type": "stream",
     "text": [
      " * sqlite:///flights.db\n",
      "Done.\n"
     ]
    },
    {
     "data": {
      "text/html": [
       "<table>\n",
       "    <tr>\n",
       "        <th>model</th>\n",
       "        <th>count(model)</th>\n",
       "    </tr>\n",
       "    <tr>\n",
       "        <td>737-7H4</td>\n",
       "        <td>308</td>\n",
       "    </tr>\n",
       "    <tr>\n",
       "        <td>737-3H4</td>\n",
       "        <td>147</td>\n",
       "    </tr>\n",
       "    <tr>\n",
       "        <td>757-232</td>\n",
       "        <td>112</td>\n",
       "    </tr>\n",
       "    <tr>\n",
       "        <td>737-824</td>\n",
       "        <td>100</td>\n",
       "    </tr>\n",
       "    <tr>\n",
       "        <td>717-200</td>\n",
       "        <td>98</td>\n",
       "    </tr>\n",
       "</table>"
      ],
      "text/plain": [
       "[('737-7H4', 308),\n",
       " ('737-3H4', 147),\n",
       " ('757-232', 112),\n",
       " ('737-824', 100),\n",
       " ('717-200', 98)]"
      ]
     },
     "execution_count": 52,
     "metadata": {},
     "output_type": "execute_result"
    }
   ],
   "source": [
    "%%sql \n",
    "\n",
    "select model, count(model) from planes\n",
    "where manufacturer = 'BOEING'\n",
    "GROUP BY model\n",
    "order by count(model) DESC\n",
    "limit 5;"
   ]
  },
  {
   "cell_type": "markdown",
   "metadata": {},
   "source": [
    "**Question 8**\n",
    "\n",
    "What manufacturer had the highest average delay time (DepDelay + ArrDelay)? \n",
    "\n",
    "**Options:**\n",
    "- PAIR MIKE E\n",
    "- AERONCA\n",
    "- AVIAT AIRCRAFT INC\n",
    "- BOEING OF CANADA LTD"
   ]
  },
  {
   "cell_type": "code",
   "execution_count": 58,
   "metadata": {},
   "outputs": [
    {
     "name": "stdout",
     "output_type": "stream",
     "text": [
      " * sqlite:///flights.db\n",
      "Done.\n"
     ]
    },
    {
     "data": {
      "text/html": [
       "<table>\n",
       "    <tr>\n",
       "        <th>manufacturer</th>\n",
       "        <th>AVG(highest_delay)</th>\n",
       "    </tr>\n",
       "    <tr>\n",
       "        <td>AVIAT AIRCRAFT INC</td>\n",
       "        <td>46.18867924528302</td>\n",
       "    </tr>\n",
       "    <tr>\n",
       "        <td>GULFSTREAM AEROSPACE</td>\n",
       "        <td>36.96</td>\n",
       "    </tr>\n",
       "    <tr>\n",
       "        <td>SIKORSKY</td>\n",
       "        <td>36.56944444444444</td>\n",
       "    </tr>\n",
       "    <tr>\n",
       "        <td>FRIEDEMANN JON</td>\n",
       "        <td>33.76521739130435</td>\n",
       "    </tr>\n",
       "    <tr>\n",
       "        <td>LEBLANC GLENN T</td>\n",
       "        <td>33.60769230769231</td>\n",
       "    </tr>\n",
       "    <tr>\n",
       "        <td>BELL</td>\n",
       "        <td>32.898305084745765</td>\n",
       "    </tr>\n",
       "    <tr>\n",
       "        <td>MARZ BARRY</td>\n",
       "        <td>30.397959183673468</td>\n",
       "    </tr>\n",
       "    <tr>\n",
       "        <td>BOEING OF CANADA LTD</td>\n",
       "        <td>30.305555555555557</td>\n",
       "    </tr>\n",
       "    <tr>\n",
       "        <td>None</td>\n",
       "        <td>30.11763694508442</td>\n",
       "    </tr>\n",
       "    <tr>\n",
       "        <td>WOBIG WAYNE R</td>\n",
       "        <td>29.720588235294116</td>\n",
       "    </tr>\n",
       "</table>"
      ],
      "text/plain": [
       "[('AVIAT AIRCRAFT INC', 46.18867924528302),\n",
       " ('GULFSTREAM AEROSPACE', 36.96),\n",
       " ('SIKORSKY', 36.56944444444444),\n",
       " ('FRIEDEMANN JON', 33.76521739130435),\n",
       " ('LEBLANC GLENN T', 33.60769230769231),\n",
       " ('BELL', 32.898305084745765),\n",
       " ('MARZ BARRY', 30.397959183673468),\n",
       " ('BOEING OF CANADA LTD', 30.305555555555557),\n",
       " (None, 30.11763694508442),\n",
       " ('WOBIG WAYNE R', 29.720588235294116)]"
      ]
     },
     "execution_count": 58,
     "metadata": {},
     "output_type": "execute_result"
    }
   ],
   "source": [
    "%%sql\n",
    "select manufacturer, AVG(highest_delay) \n",
    "from\n",
    "    (select tailnum, manufacturer from planes)\n",
    "join\n",
    "    (select tailnum, (DepDelay + ArrDelay) as highest_delay from flights )\n",
    "Using (tailnum)\n",
    "Group by manufacturer\n",
    "Order by AVG(highest_delay) desc\n",
    "limit 10;\n"
   ]
  },
  {
   "cell_type": "markdown",
   "metadata": {},
   "source": [
    "**Question 9**\n",
    "\n",
    "How many planes landed at Los Angeles International Airport? \n",
    "\n",
    "**Options:**\n",
    "- 215 608\n",
    "- 18 964\n",
    "- 41 258\n",
    "- 39 422"
   ]
  },
  {
   "cell_type": "code",
   "execution_count": 71,
   "metadata": {},
   "outputs": [
    {
     "name": "stdout",
     "output_type": "stream",
     "text": [
      " * sqlite:///flights.db\n",
      "Done.\n"
     ]
    },
    {
     "data": {
      "text/html": [
       "<table>\n",
       "    <tr>\n",
       "        <th>count(dest)</th>\n",
       "    </tr>\n",
       "    <tr>\n",
       "        <td>18964</td>\n",
       "    </tr>\n",
       "</table>"
      ],
      "text/plain": [
       "[(18964,)]"
      ]
     },
     "execution_count": 71,
     "metadata": {},
     "output_type": "execute_result"
    }
   ],
   "source": [
    "%%sql \n",
    "select count(dest) \n",
    "from flights\n",
    "where dest = 'LAX'"
   ]
  },
  {
   "cell_type": "markdown",
   "metadata": {},
   "source": [
    "**Question 10**\n",
    "\n",
    "Which domestic carrier had the best on-time performance (OTP), where OTP is defined as the rate of on time flights with a 15min buffer on departure and arrival?\n",
    "\n",
    "**Options:**\n",
    "- American Airlines Inc\n",
    "- Hawaiian Airlines Inc\n",
    "- Comair Inc\n",
    "- Aloha Airlines Inc"
   ]
  },
  {
   "cell_type": "code",
   "execution_count": 76,
   "metadata": {},
   "outputs": [
    {
     "name": "stdout",
     "output_type": "stream",
     "text": [
      " * sqlite:///flights.db\n",
      "Done.\n"
     ]
    },
    {
     "data": {
      "text/html": [
       "<table>\n",
       "    <tr>\n",
       "        <th>Description</th>\n",
       "        <th>OTP</th>\n",
       "    </tr>\n",
       "    <tr>\n",
       "        <td>Hawaiian Airlines Inc.\r",
       "</td>\n",
       "        <td>0.9726469954770622</td>\n",
       "    </tr>\n",
       "    <tr>\n",
       "        <td>Aloha Airlines Inc.\r",
       "</td>\n",
       "        <td>0.9420434673994504</td>\n",
       "    </tr>\n",
       "    <tr>\n",
       "        <td>Delta Air Lines Inc.\r",
       "</td>\n",
       "        <td>0.8678252421944572</td>\n",
       "    </tr>\n",
       "    <tr>\n",
       "        <td>AirTran Airways Corporation\r",
       "</td>\n",
       "        <td>0.8594743848922637</td>\n",
       "    </tr>\n",
       "    <tr>\n",
       "        <td>US Airways Inc. (Merged with America West 9/05. Reporting for both starting 10/07.)\r",
       "</td>\n",
       "        <td>0.8494294605809128</td>\n",
       "    </tr>\n",
       "    <tr>\n",
       "        <td>Northwest Airlines Inc.\r",
       "</td>\n",
       "        <td>0.8420451206373045</td>\n",
       "    </tr>\n",
       "    <tr>\n",
       "        <td>Comair Inc.\r",
       "</td>\n",
       "        <td>0.8196549633467453</td>\n",
       "    </tr>\n",
       "    <tr>\n",
       "        <td>Frontier Airlines Inc.\r",
       "</td>\n",
       "        <td>0.8180515759312321</td>\n",
       "    </tr>\n",
       "    <tr>\n",
       "        <td>JetBlue Airways\r",
       "</td>\n",
       "        <td>0.815779748706578</td>\n",
       "    </tr>\n",
       "    <tr>\n",
       "        <td>Continental Air Lines Inc.\r",
       "</td>\n",
       "        <td>0.8137608069164265</td>\n",
       "    </tr>\n",
       "    <tr>\n",
       "        <td>Alaska Airlines Inc.\r",
       "</td>\n",
       "        <td>0.7973169549054469</td>\n",
       "    </tr>\n",
       "    <tr>\n",
       "        <td>Expressjet Airlines Inc.\r",
       "</td>\n",
       "        <td>0.7957625888840517</td>\n",
       "    </tr>\n",
       "    <tr>\n",
       "        <td>Pinnacle Airlines Inc.\r",
       "</td>\n",
       "        <td>0.785493898227032</td>\n",
       "    </tr>\n",
       "    <tr>\n",
       "        <td>Southwest Airlines Co.\r",
       "</td>\n",
       "        <td>0.7823814558439227</td>\n",
       "    </tr>\n",
       "    <tr>\n",
       "        <td>Mesa Airlines Inc.\r",
       "</td>\n",
       "        <td>0.7788716760774094</td>\n",
       "    </tr>\n",
       "    <tr>\n",
       "        <td>Skywest Airlines Inc.\r",
       "</td>\n",
       "        <td>0.7596278108038252</td>\n",
       "    </tr>\n",
       "    <tr>\n",
       "        <td>Atlantic Southeast Airlines\r",
       "</td>\n",
       "        <td>0.7583572110792741</td>\n",
       "    </tr>\n",
       "    <tr>\n",
       "        <td>American Eagle Airlines Inc.\r",
       "</td>\n",
       "        <td>0.742702465432731</td>\n",
       "    </tr>\n",
       "    <tr>\n",
       "        <td>American Airlines Inc.\r",
       "</td>\n",
       "        <td>0.7356018363446496</td>\n",
       "    </tr>\n",
       "    <tr>\n",
       "        <td>United Air Lines Inc.\r",
       "</td>\n",
       "        <td>0.6975509645642358</td>\n",
       "    </tr>\n",
       "</table>"
      ],
      "text/plain": [
       "[('Hawaiian Airlines Inc.\\r', 0.9726469954770622),\n",
       " ('Aloha Airlines Inc.\\r', 0.9420434673994504),\n",
       " ('Delta Air Lines Inc.\\r', 0.8678252421944572),\n",
       " ('AirTran Airways Corporation\\r', 0.8594743848922637),\n",
       " ('US Airways Inc. (Merged with America West 9/05. Reporting for both starting 10/07.)\\r', 0.8494294605809128),\n",
       " ('Northwest Airlines Inc.\\r', 0.8420451206373045),\n",
       " ('Comair Inc.\\r', 0.8196549633467453),\n",
       " ('Frontier Airlines Inc.\\r', 0.8180515759312321),\n",
       " ('JetBlue Airways\\r', 0.815779748706578),\n",
       " ('Continental Air Lines Inc.\\r', 0.8137608069164265),\n",
       " ('Alaska Airlines Inc.\\r', 0.7973169549054469),\n",
       " ('Expressjet Airlines Inc.\\r', 0.7957625888840517),\n",
       " ('Pinnacle Airlines Inc.\\r', 0.785493898227032),\n",
       " ('Southwest Airlines Co.\\r', 0.7823814558439227),\n",
       " ('Mesa Airlines Inc.\\r', 0.7788716760774094),\n",
       " ('Skywest Airlines Inc.\\r', 0.7596278108038252),\n",
       " ('Atlantic Southeast Airlines\\r', 0.7583572110792741),\n",
       " ('American Eagle Airlines Inc.\\r', 0.742702465432731),\n",
       " ('American Airlines Inc.\\r', 0.7356018363446496),\n",
       " ('United Air Lines Inc.\\r', 0.6975509645642358)]"
      ]
     },
     "execution_count": 76,
     "metadata": {},
     "output_type": "execute_result"
    }
   ],
   "source": [
    "%%sql \n",
    "select Description, CAST(OTPDep AS REAL) / CAST(totalDep AS REAL) as OTP\n",
    "from\n",
    "        (select uniquecarrier, count(DepDelay) as totalDep\n",
    "        from flights \n",
    "        group by uniquecarrier) as t1\n",
    "join \n",
    "    (select uniquecarrier, Description, count(DepDelay) as OTPDep\n",
    "    from flights\n",
    "    JOIN carriers\n",
    "    on flights.uniquecarrier = carriers.code\n",
    "    where DepDelay <= 15\n",
    "    group by uniquecarrier) as t2\n",
    "on t1.uniquecarrier = t2.uniquecarrier\n",
    "order by OTP DESC\n",
    "limit 20\n"
   ]
  },
  {
   "cell_type": "code",
   "execution_count": null,
   "metadata": {},
   "outputs": [],
   "source": []
  }
 ],
 "metadata": {
  "kernelspec": {
   "display_name": "Python 3",
   "language": "python",
   "name": "python3"
  },
  "language_info": {
   "codemirror_mode": {
    "name": "ipython",
    "version": 3
   },
   "file_extension": ".py",
   "mimetype": "text/x-python",
   "name": "python",
   "nbconvert_exporter": "python",
   "pygments_lexer": "ipython3",
   "version": "3.7.6"
  }
 },
 "nbformat": 4,
 "nbformat_minor": 2
}
