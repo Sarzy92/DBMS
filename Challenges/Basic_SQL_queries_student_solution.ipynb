{
 "cells": [
  {
   "cell_type": "markdown",
   "metadata": {
    "id": "0gc_03EY4jZ6"
   },
   "source": [
    "# Basic SQL Queries: TMDb Database\n",
    "© Explore Data Science Academy"
   ]
  },
  {
   "cell_type": "markdown",
   "metadata": {
    "id": "JrWZ1zlN4jZ-"
   },
   "source": [
    "## Instructions to Students\n",
    "\n",
    "This challenge is designed to determine how much you have learned so far and will test your knowledge on Basic SQL queries.\n",
    "\n",
    "The answers for this challenge should be selected on Athena for each corresponding Multiple Choice Question. The questions are included in this notebook and are numbered according to the Athena Questions. The options to choose from for each question has also been included.\n",
    "\n",
    "*NOTE:*\n",
    "Do not add or remove cells in this notebook. Do not edit or remove the `%%sql` comment as it is required to run each cell.\n",
    "\n",
    "**_Good Luck!_**"
   ]
  },
  {
   "cell_type": "markdown",
   "metadata": {
    "id": "kxRtPunU4jZ_"
   },
   "source": [
    "## Honour Code\n",
    "\n",
    "I HUMPHERY, OJO, confirm - by submitting this document - that the solutions in this notebook are a result of my own work and that I abide by the EDSA honour code (https://drive.google.com/file/d/1QDCjGZJ8-FmJE3bZdIQNwnJyQKPhHZBn/view?usp=sharing).\n",
    "\n",
    "Non-compliance with the honour code constitutes a material breach of contract."
   ]
  },
  {
   "cell_type": "markdown",
   "metadata": {
    "id": "yhw8XgOH4jZ_"
   },
   "source": [
    "## The TMDb Database\n",
    "\n",
    "In this challenge you will be exploring the [The Movie Database](https://www.themoviedb.org/): an online movie and TV show database, which houses some of the most popular movies and TV shows at your finger tips. The TMDb database supports 39 official languages used in over 180 countries daily and dates all the way back to 2008. \n",
    "\n",
    "\n",
    "<img src=\"https://github.com/Explore-AI/Pictures/blob/master/sql_tmdb.jpg?raw=true\" width=80%/>\n",
    "\n",
    "\n",
    "Below is an Entity Relationship Diagram (ERD) of the TMDb database:\n",
    "\n",
    "<img src=\"https://github.com/Explore-AI/Pictures/blob/master/TMDB_ER_diagram.png?raw=true\" width=70%/>\n",
    "\n",
    "As can be seen from the ER diagram, the TMDb database consists of `12 tables` containing information about movies, cast, genre and so much more.  \n",
    "\n",
    "For this challenge we will only be making use of the Movies table from the TMDb database. We will be applying the use of basic SQL queries to gain insightful information from the Movies table. The Movie table consists of: \n",
    "- 15 columns\n",
    "- 4804 rows\n",
    "- Includes information on movie revenue, release date, popularity and so much more ! \n",
    "\n",
    "Let's get started!"
   ]
  },
  {
   "cell_type": "markdown",
   "metadata": {
    "id": "Uu0YR7aU4jaA"
   },
   "source": [
    "## Loading the database\n",
    "\n",
    "To begin and start making use of SQL queries you need to prepare your SQL environment you can do this by loading in the magic command `%load_ext sql`, next you can go ahead and load in your database. To do this you will need to ensure you have downloaded the `TMDB.db`sqlite file from Athena and have stored it in a known location. Now that you have all the prerequistes you can go ahead and load it into the notebook. "
   ]
  },
  {
   "cell_type": "code",
   "execution_count": 2,
   "metadata": {
    "id": "QTqKYEvJ4jaB"
   },
   "outputs": [],
   "source": [
    "%load_ext sql"
   ]
  },
  {
   "cell_type": "code",
   "execution_count": 3,
   "metadata": {
    "colab": {
     "base_uri": "https://localhost:8080/",
     "height": 35
    },
    "id": "vGeDzbCM4jaB",
    "outputId": "a7a294a4-970c-4fbd-f4be-739fb5423f33"
   },
   "outputs": [
    {
     "data": {
      "application/vnd.google.colaboratory.intrinsic+json": {
       "type": "string"
      },
      "text/plain": [
       "'Connected: @TMDB.db'"
      ]
     },
     "execution_count": 3,
     "metadata": {},
     "output_type": "execute_result"
    }
   ],
   "source": [
    "%%sql \n",
    "\n",
    "sqlite:///TMDB.db"
   ]
  },
  {
   "cell_type": "markdown",
   "metadata": {
    "id": "MVYDQ5EK4jaC"
   },
   "source": [
    "## Questions on Basic SQL Queries \n",
    "\n",
    "Use the given cell below each question to execute your SQL queries to find the correct input from the options provided for the multiple choice questions on Athena.\n",
    "\n",
    "To attempt this you will use what you have learned about the following functions and statements:\n",
    "\n",
    "- SELECT\n",
    "- FROM\n",
    "- WHERE\n",
    "- LIKE\n",
    "- COUNT\n",
    "- OR\n",
    "- AND\n",
    "- BETWEEN"
   ]
  },
  {
   "cell_type": "markdown",
   "metadata": {
    "id": "8o78jKD64jaC"
   },
   "source": [
    "**Question 1**\n",
    "\n",
    "What is the SQL code to see the whole movies table?\n",
    "\n",
    "**Options:** \n",
    "- SELECT ALL FROM Movies\n",
    "- SELECT TABLE FROM Movies\n",
    "- SELECT * FROM Movies\n",
    "- SELECT % FROM Movies"
   ]
  },
  {
   "cell_type": "code",
   "execution_count": 7,
   "metadata": {
    "colab": {
     "base_uri": "https://localhost:8080/"
    },
    "id": "WLI-ZAy54jaC",
    "outputId": "6eb487e6-7a70-4185-a437-5d9e43a5e7a1"
   },
   "outputs": [
    {
     "name": "stdout",
     "output_type": "stream",
     "text": [
      " * sqlite:///TMDB.db\n",
      "(sqlite3.OperationalError) no such table: movies\n",
      "[SQL: SELECT*FROM movies;]\n",
      "(Background on this error at: https://sqlalche.me/e/14/e3q8)\n"
     ]
    }
   ],
   "source": [
    "%%sql \n",
    "SELECT*FROM movies;"
   ]
  },
  {
   "cell_type": "markdown",
   "metadata": {
    "id": "GSAOZOFM4jaD"
   },
   "source": [
    "**Question 2**\n",
    "\n",
    "What was the budget for the movie “Inception”?\n",
    "\n",
    "**Options:**\n",
    "- $224 000 000\n",
    "\n",
    "- $160 000 000\n",
    "\n",
    "- $344 000 000\n",
    "\n",
    "- $115 000 000\n"
   ]
  },
  {
   "cell_type": "code",
   "execution_count": 8,
   "metadata": {
    "colab": {
     "base_uri": "https://localhost:8080/"
    },
    "id": "eufrYKvV4jaD",
    "outputId": "ee820559-1e37-4a41-f5e6-c1d346b55d29"
   },
   "outputs": [
    {
     "name": "stdout",
     "output_type": "stream",
     "text": [
      " * sqlite:///TMDB.db\n",
      "(sqlite3.OperationalError) no such table: movies\n",
      "[SQL: SELECT budget FROM movies WHERE title = 'Inception']\n",
      "(Background on this error at: https://sqlalche.me/e/14/e3q8)\n"
     ]
    }
   ],
   "source": [
    "%%sql \n",
    "SELECT budget FROM movies WHERE title = 'Inception'"
   ]
  },
  {
   "cell_type": "markdown",
   "metadata": {
    "id": "nS4M-9ZG4jaD"
   },
   "source": [
    "**Question 3**\n",
    "\n",
    "What is the runtime of the movie \"Titanic\"?\n",
    "\n",
    "**Options:**\n",
    "- 146\n",
    "- 158\n",
    "- 122\n",
    "- 194"
   ]
  },
  {
   "cell_type": "code",
   "execution_count": 9,
   "metadata": {
    "colab": {
     "base_uri": "https://localhost:8080/"
    },
    "id": "_-Ihla7u4jaE",
    "outputId": "6851a956-3fc8-4b68-d7da-af4d430f2bb1"
   },
   "outputs": [
    {
     "name": "stdout",
     "output_type": "stream",
     "text": [
      " * sqlite:///TMDB.db\n",
      "(sqlite3.OperationalError) no such table: movies\n",
      "[SQL: SELECT runtime FROM movies \n",
      "WHERE title = \"Titanic\";]\n",
      "(Background on this error at: https://sqlalche.me/e/14/e3q8)\n"
     ]
    }
   ],
   "source": [
    "%%sql \n",
    "SELECT runtime FROM movies \n",
    "WHERE title = \"Titanic\";"
   ]
  },
  {
   "cell_type": "markdown",
   "metadata": {
    "id": "TFjhfXov4jaE"
   },
   "source": [
    "**Question 4**\n",
    "\n",
    "How many movies do not have English as their original language? (Hint: “en” is the abbreviation for English)\n",
    "\n",
    "**Options:**\n",
    "- 492\n",
    "- 298\n",
    "- 387\n",
    "- 315"
   ]
  },
  {
   "cell_type": "code",
   "execution_count": 10,
   "metadata": {
    "colab": {
     "base_uri": "https://localhost:8080/"
    },
    "id": "xSwWr05B4jaE",
    "outputId": "059f0a33-66c4-4d0d-8c21-278d54d4ac9d"
   },
   "outputs": [
    {
     "name": "stdout",
     "output_type": "stream",
     "text": [
      " * sqlite:///TMDB.db\n",
      "(sqlite3.OperationalError) no such table: movies\n",
      "[SQL: SELECT COUNT(*)FROM movies \n",
      "WHERE original_language != \"en\";]\n",
      "(Background on this error at: https://sqlalche.me/e/14/e3q8)\n"
     ]
    }
   ],
   "source": [
    "%%sql\n",
    "SELECT COUNT(*)FROM movies \n",
    "WHERE original_language != \"en\";"
   ]
  },
  {
   "cell_type": "markdown",
   "metadata": {
    "id": "-Dx5wDJP4jaE"
   },
   "source": [
    "**Question 5**\n",
    "\n",
    "How many movies are there that have a popularity score of more than 250?\n",
    "\n",
    "**Options:**\n",
    "- 7\n",
    "- 5\n",
    "- 9\n",
    "- 11"
   ]
  },
  {
   "cell_type": "code",
   "execution_count": 11,
   "metadata": {
    "colab": {
     "base_uri": "https://localhost:8080/"
    },
    "id": "MWf8jCnE4jaF",
    "outputId": "7c6af770-57da-4b8b-92e5-fdcbc9d9f12e"
   },
   "outputs": [
    {
     "name": "stdout",
     "output_type": "stream",
     "text": [
      " * sqlite:///TMDB.db\n",
      "(sqlite3.OperationalError) no such table: movies\n",
      "[SQL: SELECT COUNT(*)FROM movies \n",
      "WHERE popularity > 250;]\n",
      "(Background on this error at: https://sqlalche.me/e/14/e3q8)\n"
     ]
    }
   ],
   "source": [
    "%%sql\n",
    "SELECT COUNT(*)FROM movies \n",
    "WHERE popularity > 250;"
   ]
  },
  {
   "cell_type": "markdown",
   "metadata": {
    "id": "u9l7qUnr4jaF"
   },
   "source": [
    "**Question 6**\n",
    "\n",
    " How many movies are there where the title is not the same as the original title?\n",
    " \n",
    " **Options:**\n",
    " -  187\n",
    " - 261\n",
    " - 74\n",
    " - 24"
   ]
  },
  {
   "cell_type": "code",
   "execution_count": 13,
   "metadata": {
    "colab": {
     "base_uri": "https://localhost:8080/"
    },
    "id": "cNVByUhz4jaF",
    "outputId": "3e8a528e-fa35-47a7-9dcd-d45cb113e962"
   },
   "outputs": [
    {
     "name": "stdout",
     "output_type": "stream",
     "text": [
      " * sqlite:///TMDB.db\n",
      "(sqlite3.OperationalError) no such table: movies\n",
      "[SQL: SELECT COUNT(*)FROM movies \n",
      "WHERE title != original_title;]\n",
      "(Background on this error at: https://sqlalche.me/e/14/e3q8)\n"
     ]
    }
   ],
   "source": [
    "%%sql\n",
    "SELECT COUNT(*)FROM movies \n",
    "WHERE title != original_title;"
   ]
  },
  {
   "cell_type": "markdown",
   "metadata": {
    "id": "LOSjgKt94jaF"
   },
   "source": [
    "**Question 7**\n",
    "\n",
    " How many movies are there that managed to get a popularity rating of more than 100 with a budget of less than $10 000 000?\n",
    " \n",
    "**Options:**\n",
    " - 11\n",
    " - 18\n",
    " - 5\n",
    " - 15"
   ]
  },
  {
   "cell_type": "code",
   "execution_count": 12,
   "metadata": {
    "colab": {
     "base_uri": "https://localhost:8080/"
    },
    "id": "Va-EAYZu4jaG",
    "outputId": "cd46a349-4088-4799-d0ab-0204bb663848"
   },
   "outputs": [
    {
     "name": "stdout",
     "output_type": "stream",
     "text": [
      " * sqlite:///TMDB.db\n",
      "(sqlite3.OperationalError) no such table: movies\n",
      "[SQL: SELECT COUNT(*)FROM movies \n",
      "WHERE popularity > 100 AND budget < 10000000;]\n",
      "(Background on this error at: https://sqlalche.me/e/14/e3q8)\n"
     ]
    }
   ],
   "source": [
    "%%sql\n",
    "SELECT COUNT(*)FROM movies \n",
    "WHERE popularity > 100 AND budget < 10000000;"
   ]
  },
  {
   "cell_type": "markdown",
   "metadata": {
    "id": "FrSAznOX4jaG"
   },
   "source": [
    "**Question 8** \n",
    "\n",
    "How many movies are there that have the word ‘love’ anywhere in the title? (Hint: The L in the word love can be upper or lower case and can be included in words such as ‘lovers’.)\n",
    "\n",
    "**Options:**\n",
    "- 67\n",
    "- 58\n",
    "- 71\n",
    "- 49"
   ]
  },
  {
   "cell_type": "code",
   "execution_count": 14,
   "metadata": {
    "colab": {
     "base_uri": "https://localhost:8080/"
    },
    "id": "yxW1zv7C4jaG",
    "outputId": "cfb59373-092d-4043-aaab-7ae882ebe730"
   },
   "outputs": [
    {
     "name": "stdout",
     "output_type": "stream",
     "text": [
      " * sqlite:///TMDB.db\n",
      "(sqlite3.OperationalError) no such table: movies\n",
      "[SQL: SELECT COUNT(*)FROM movies \n",
      "WHERE title LIKE \"%Love%\";]\n",
      "(Background on this error at: https://sqlalche.me/e/14/e3q8)\n"
     ]
    }
   ],
   "source": [
    "%%sql\n",
    "SELECT COUNT(*)FROM movies \n",
    "WHERE title LIKE \"%Love%\";"
   ]
  },
  {
   "cell_type": "markdown",
   "metadata": {
    "id": "uvGxlH1W4jaH"
   },
   "source": [
    "**Question 9**\n",
    "\n",
    "How many movies were released between the dates 1 August 2012 and 31 July 2013?  \n",
    "\n",
    "**Options:**\n",
    "- 227 \n",
    "- 295\n",
    "- 3\n",
    "- 208"
   ]
  },
  {
   "cell_type": "code",
   "execution_count": 16,
   "metadata": {
    "colab": {
     "base_uri": "https://localhost:8080/"
    },
    "id": "s2yIPyg74jaH",
    "outputId": "0e256623-0f28-4baa-b672-35cfbe3ba6fc"
   },
   "outputs": [
    {
     "name": "stdout",
     "output_type": "stream",
     "text": [
      " * sqlite:///TMDB.db\n",
      "(sqlite3.OperationalError) no such table: movies\n",
      "[SQL: SELECT COUNT(*)FROM movies \n",
      "WHERE release_date BETWEEN '2012-08-01' AND '2013-07-31';]\n",
      "(Background on this error at: https://sqlalche.me/e/14/e3q8)\n"
     ]
    }
   ],
   "source": [
    "%%sql\n",
    "SELECT COUNT(*)FROM movies \n",
    "WHERE release_date BETWEEN '2012-08-01' AND '2013-07-31';"
   ]
  },
  {
   "cell_type": "markdown",
   "metadata": {
    "id": "pqzbtvCx4jaH"
   },
   "source": [
    "**Question 10**\n",
    "\n",
    "You have had a long day and want to sit back and enjoy a movie.  Unfortunately, today you are only in the mood for a very specific type of movie. It definitely needs to be in English. It should also be new, something after 1 Jan 2010, but not too new as you might have seen it recently, so it must have been released before 1 Jan 2016. It should also be a romantic movie, so make sure it has the word love somewhere in the title.  You also want it to be a big blockbuster, so the budget of the move must be more than $10 000 000.\n",
    "\n",
    "What is the movie with the highest popularity that meets all of your requirements?\n",
    "\n",
    "**Options:**\n",
    "-  Love & Other Drugs\n",
    "- From Paris with Love\n",
    "-  Crazy, Stupid, Love\n",
    "- Eat Pray Love"
   ]
  },
  {
   "cell_type": "code",
   "execution_count": 15,
   "metadata": {
    "colab": {
     "base_uri": "https://localhost:8080/"
    },
    "id": "ocOQkHW-4jaH",
    "outputId": "b06a182d-7274-492d-a5bd-b536c08a5ce4"
   },
   "outputs": [
    {
     "name": "stdout",
     "output_type": "stream",
     "text": [
      " * sqlite:///TMDB.db\n",
      "(sqlite3.OperationalError) no such table: movies\n",
      "[SQL: SELECT title FROM movies, genres\n",
      "WHERE release_date \n",
      "    BETWEEN '2010-01-01' AND '2016-01-01' \n",
      "    OR original_language = 'en'\n",
      "    OR genre_name = 'Romance'\n",
      "    OR budget > 10000000\n",
      "    \n",
      "    \n",
      "    LIMIT 2;]\n",
      "(Background on this error at: https://sqlalche.me/e/14/e3q8)\n"
     ]
    }
   ],
   "source": [
    "%%sql\n",
    "SELECT title FROM movies, genres\n",
    "WHERE release_date \n",
    "    BETWEEN '2010-01-01' AND '2016-01-01' \n",
    "    OR original_language = 'en'\n",
    "    OR genre_name = 'Romance'\n",
    "    OR budget > 10000000\n",
    "    \n",
    "    \n",
    "    LIMIT 2;\n"
   ]
  },
  {
   "cell_type": "code",
   "execution_count": null,
   "metadata": {
    "id": "HDd7IkX4tkru"
   },
   "outputs": [],
   "source": []
  }
 ],
 "metadata": {
  "colab": {
   "collapsed_sections": [],
   "name": "Basic_SQL_queries_student_solution.ipynb",
   "provenance": []
  },
  "kernelspec": {
   "display_name": "Python 3",
   "language": "python",
   "name": "python3"
  },
  "language_info": {
   "codemirror_mode": {
    "name": "ipython",
    "version": 3
   },
   "file_extension": ".py",
   "mimetype": "text/x-python",
   "name": "python",
   "nbconvert_exporter": "python",
   "pygments_lexer": "ipython3",
   "version": "3.7.6"
  }
 },
 "nbformat": 4,
 "nbformat_minor": 1
}
