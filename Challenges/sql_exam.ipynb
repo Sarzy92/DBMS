{
 "cells": [
  {
   "cell_type": "code",
   "execution_count": 1,
   "metadata": {},
   "outputs": [],
   "source": [
    "%load_ext sql"
   ]
  },
  {
   "cell_type": "code",
   "execution_count": 4,
   "metadata": {},
   "outputs": [],
   "source": [
    "%%sql\n",
    "sqlite:///C:\\Users\\Jerry\\Documents\\ExploreDataFiles\\SQL\\TMDB-x-2431_exam\\TMDB.db"
   ]
  },
  {
   "cell_type": "markdown",
   "metadata": {},
   "source": [
    "# Question 1\n",
    "\n",
    "Who won the Oscar for “Actor in a Leading Role” in  2015 ?\n",
    "\n",
    "(Hint winner is indicated as '1.0')\n",
    "\n",
    "**Options:** \n",
    "\n",
    "  - Micheal Fassbender\n",
    "  - Natalie Portman\n",
    "  - Leonardo DiCaprio\n",
    "  - Eddie Redmayne\n"
   ]
  },
  {
   "cell_type": "code",
   "execution_count": 5,
   "metadata": {},
   "outputs": [
    {
     "name": "stdout",
     "output_type": "stream",
     "text": [
      " * sqlite:///C:\\Users\\Jerry\\Documents\\ExploreDataFiles\\SQL\\TMDB-x-2431_exam\\TMDB.db\n",
      "Done.\n"
     ]
    },
    {
     "data": {
      "text/html": [
       "<table>\n",
       "    <tr>\n",
       "        <th>year</th>\n",
       "        <th>award</th>\n",
       "        <th>winner</th>\n",
       "        <th>name</th>\n",
       "        <th>film</th>\n",
       "    </tr>\n",
       "    <tr>\n",
       "        <td>2015</td>\n",
       "        <td>Actor in a Leading Role</td>\n",
       "        <td>Winner</td>\n",
       "        <td>Leonardo DiCaprio</td>\n",
       "        <td>The Revenant</td>\n",
       "    </tr>\n",
       "</table>"
      ],
      "text/plain": [
       "[('2015', 'Actor in a Leading Role', 'Winner', 'Leonardo DiCaprio', 'The Revenant')]"
      ]
     },
     "execution_count": 5,
     "metadata": {},
     "output_type": "execute_result"
    }
   ],
   "source": [
    "%%sql \n",
    "select year,award,CASE winner when 1.0 then 'Winner' ELSE 'Nominated' end as winner,name,film \n",
    "from oscars where year='2015' and winner=1.0 and award like '%Actor in a Leading Role%'\n"
   ]
  },
  {
   "cell_type": "code",
   "execution_count": null,
   "metadata": {},
   "outputs": [],
   "source": []
  },
  {
   "cell_type": "markdown",
   "metadata": {},
   "source": [
    "# Question 2\n",
    "\n",
    "What query will produce the ten oldest movies in the database?\n",
    "\n",
    "Options:\n",
    "\n",
    "SELECT TOP(10) * FROM movies WHERE release_date ORDER BY release_date ASC\n",
    "\n",
    "SELECT * FROM movies WHERE release_date IS NOT NULL ORDER BY release_date ASC LIMIT 10\n",
    "\n",
    "SELECT * FROM movies WHERE release_date IS NOT NULL ORDER BY release_date DESC LIMIT 10\n",
    "\n",
    "SELECT * FROM movies WHERE release_date IS NULL ORDER BY release_date DESC LIMIT 10"
   ]
  },
  {
   "cell_type": "code",
   "execution_count": 6,
   "metadata": {},
   "outputs": [
    {
     "name": "stdout",
     "output_type": "stream",
     "text": [
      " * sqlite:///C:\\Users\\Jerry\\Documents\\ExploreDataFiles\\SQL\\TMDB-x-2431_exam\\TMDB.db\n",
      "Done.\n"
     ]
    },
    {
     "data": {
      "text/html": [
       "<table>\n",
       "    <tr>\n",
       "        <th>movie_id</th>\n",
       "        <th>title</th>\n",
       "        <th>release_date</th>\n",
       "        <th>budget</th>\n",
       "        <th>homepage</th>\n",
       "        <th>original_language</th>\n",
       "        <th>original_title</th>\n",
       "        <th>overview</th>\n",
       "        <th>popularity</th>\n",
       "        <th>revenue</th>\n",
       "        <th>runtime</th>\n",
       "        <th>release_status</th>\n",
       "        <th>tagline</th>\n",
       "        <th>vote_average</th>\n",
       "        <th>vote_count</th>\n",
       "    </tr>\n",
       "    <tr>\n",
       "        <td>3059</td>\n",
       "        <td>Intolerance</td>\n",
       "        <td>1916-09-04 00:00:00.000000</td>\n",
       "        <td>385907</td>\n",
       "        <td>None</td>\n",
       "        <td>en</td>\n",
       "        <td>Intolerance</td>\n",
       "        <td>The story of a poor young woman, separated by prejudice from her husband and baby, is interwoven with tales of intolerance from throughout history.</td>\n",
       "        <td>3.232447</td>\n",
       "        <td>8394751.0</td>\n",
       "        <td>197.0</td>\n",
       "        <td>Released</td>\n",
       "        <td>The Cruel Hand of Intolerance</td>\n",
       "        <td>7.4</td>\n",
       "        <td>60</td>\n",
       "    </tr>\n",
       "    <tr>\n",
       "        <td>3060</td>\n",
       "        <td>The Big Parade</td>\n",
       "        <td>1925-11-05 00:00:00.000000</td>\n",
       "        <td>245000</td>\n",
       "        <td>None</td>\n",
       "        <td>en</td>\n",
       "        <td>The Big Parade</td>\n",
       "        <td>The story of an idle rich boy who joins the US Army&#x27;s Rainbow Division and is sent to France to fight in World War I, becomes friends with two working class men, experiences the horrors of trench warfare, and finds love with a French girl.</td>\n",
       "        <td>0.785744</td>\n",
       "        <td>22000000.0</td>\n",
       "        <td>151.0</td>\n",
       "        <td>Released</td>\n",
       "        <td>None</td>\n",
       "        <td>7.0</td>\n",
       "        <td>21</td>\n",
       "    </tr>\n",
       "    <tr>\n",
       "        <td>19</td>\n",
       "        <td>Metropolis</td>\n",
       "        <td>1927-01-10 00:00:00.000000</td>\n",
       "        <td>92620000</td>\n",
       "        <td>None</td>\n",
       "        <td>de</td>\n",
       "        <td>Metropolis</td>\n",
       "        <td>In a futuristic city sharply divided between the working class and the city planners, the son of the city&#x27;s mastermind falls in love with a working class prophet who predicts the coming of a savior to mediate their differences.</td>\n",
       "        <td>32.351527</td>\n",
       "        <td>650422.0</td>\n",
       "        <td>153.0</td>\n",
       "        <td>Released</td>\n",
       "        <td>There can be no understanding between the hands and the brain unless the heart acts as mediator.</td>\n",
       "        <td>8.0</td>\n",
       "        <td>657</td>\n",
       "    </tr>\n",
       "    <tr>\n",
       "        <td>905</td>\n",
       "        <td>Pandora&#x27;s Box</td>\n",
       "        <td>1929-01-30 00:00:00.000000</td>\n",
       "        <td>0</td>\n",
       "        <td>None</td>\n",
       "        <td>de</td>\n",
       "        <td>Die Bnchse der Pandora</td>\n",
       "        <td>The rise and inevitable fall of an amoral but naive young woman whose insouciant eroticism inspires lust and violence in those around her.</td>\n",
       "        <td>1.824184</td>\n",
       "        <td>0.0</td>\n",
       "        <td>109.0</td>\n",
       "        <td>Released</td>\n",
       "        <td>None</td>\n",
       "        <td>7.6</td>\n",
       "        <td>45</td>\n",
       "    </tr>\n",
       "    <tr>\n",
       "        <td>65203</td>\n",
       "        <td>The Broadway Melody</td>\n",
       "        <td>1929-02-08 00:00:00.000000</td>\n",
       "        <td>379000</td>\n",
       "        <td>None</td>\n",
       "        <td>en</td>\n",
       "        <td>The Broadway Melody</td>\n",
       "        <td>Harriet and Queenie Mahoney, a vaudeville act, come to Broadway, where their friend Eddie Kerns needs them for his number in one of Francis Zanfield&#x27;s shows. Eddie was in love with Harriet, but when he meets Queenie, he falls in love to her, but she is courted by Jock Warriner, a member of the New Yorker high society. It takes a while till Queenie recognizes, that she is for Jock nothing more than a toy, and it also takes a while till Harriet recognizes, that Eddie is in love with Queenie</td>\n",
       "        <td>0.968865</td>\n",
       "        <td>4358000.0</td>\n",
       "        <td>100.0</td>\n",
       "        <td>Released</td>\n",
       "        <td>The pulsating drama of Broadway&#x27;s bared heart speaks and sings with a voice to stir your soul!</td>\n",
       "        <td>5.0</td>\n",
       "        <td>19</td>\n",
       "    </tr>\n",
       "    <tr>\n",
       "        <td>22301</td>\n",
       "        <td>Hell&#x27;s Angels</td>\n",
       "        <td>1930-11-15 00:00:00.000000</td>\n",
       "        <td>3950000</td>\n",
       "        <td>None</td>\n",
       "        <td>en</td>\n",
       "        <td>Hell&#x27;s Angels</td>\n",
       "        <td>Two brothers attending Oxford enlist with the Royal Flying Corps when World War I breaks out. Roy and Monte Rutledge have very different personalities. Monte is a freewheeling womanizer, even with his brother&#x27;s girlfriend Helen. He also proves to have a yellow streak when it comes to his Night Patrol duties. Roy is made of strong moral fiber and attempts to keep his brother in line. Both volunteer for an extremely risky two man bombing mission for different reasons. Monte wants to lose his cowardly reputation and Roy seeks to protect his brother. Roy loves Helen; Helen enjoys an affair with Monte; before they leave on their mission over Germany they find her in still another man&#x27;s arms.  Their assignment to knock out a strategic German munitions facility is a booming success, but with a squadron of fighters bearing down on them afterwards, escape seems unlikely.</td>\n",
       "        <td>8.484123</td>\n",
       "        <td>8000000.0</td>\n",
       "        <td>127.0</td>\n",
       "        <td>Released</td>\n",
       "        <td>Howard Hughes&#x27; Thrilling Multi-Million Dollar Air Spectacle</td>\n",
       "        <td>6.1</td>\n",
       "        <td>19</td>\n",
       "    </tr>\n",
       "    <tr>\n",
       "        <td>22649</td>\n",
       "        <td>A Farewell to Arms</td>\n",
       "        <td>1932-12-08 00:00:00.000000</td>\n",
       "        <td>4</td>\n",
       "        <td>None</td>\n",
       "        <td>en</td>\n",
       "        <td>A Farewell to Arms</td>\n",
       "        <td>British nurse Catherine Barkley (Helen Hayes) and American Lieutenant Frederic Henry (Gary Cooper) fall in love during the First World War in Italy. Eventually separated by Frederic&#x27;s transfer, tremendous challenges and difficult decisions face each, as the war rages on. Academy Awards winner for Best Cinematography and for Best Sound, Recording. Nominated for Best Picture and for Best Art Direction.</td>\n",
       "        <td>1.199451</td>\n",
       "        <td>25.0</td>\n",
       "        <td>89.0</td>\n",
       "        <td>Released</td>\n",
       "        <td>Every woman who has loved will understand</td>\n",
       "        <td>6.2</td>\n",
       "        <td>28</td>\n",
       "    </tr>\n",
       "    <tr>\n",
       "        <td>3062</td>\n",
       "        <td>42nd Street</td>\n",
       "        <td>1933-02-02 00:00:00.000000</td>\n",
       "        <td>439000</td>\n",
       "        <td>None</td>\n",
       "        <td>en</td>\n",
       "        <td>42nd Street</td>\n",
       "        <td>A producer puts on what may be his last Broadway show, and at the last moment a chorus girl has to replace the star.</td>\n",
       "        <td>1.933366</td>\n",
       "        <td>2281000.0</td>\n",
       "        <td>89.0</td>\n",
       "        <td>Released</td>\n",
       "        <td>None</td>\n",
       "        <td>6.1</td>\n",
       "        <td>37</td>\n",
       "    </tr>\n",
       "    <tr>\n",
       "        <td>43595</td>\n",
       "        <td>She Done Him Wrong</td>\n",
       "        <td>1933-02-09 00:00:00.000000</td>\n",
       "        <td>200000</td>\n",
       "        <td>None</td>\n",
       "        <td>en</td>\n",
       "        <td>She Done Him Wrong</td>\n",
       "        <td>&quot;New York singer and nightclub owner Lady Lou has more men friends than you can imagine. Unfortunately one of them is a vicious criminal who&#x27;s escaped and is on the way to see &quot;&quot;his&quot;&quot; girl, not realising she hasn&#x27;t exactly been faithful in his absence. Help is at hand in the form of young Captain Cummings a local temperance league leader though.&quot;</td>\n",
       "        <td>0.622752</td>\n",
       "        <td>2200000.0</td>\n",
       "        <td>66.0</td>\n",
       "        <td>Released</td>\n",
       "        <td>Mae West gives a &#x27;Hot Time&#x27; to the nation!</td>\n",
       "        <td>5.1</td>\n",
       "        <td>27</td>\n",
       "    </tr>\n",
       "    <tr>\n",
       "        <td>3078</td>\n",
       "        <td>It Happened One Night</td>\n",
       "        <td>1934-02-22 00:00:00.000000</td>\n",
       "        <td>325000</td>\n",
       "        <td>None</td>\n",
       "        <td>en</td>\n",
       "        <td>It Happened One Night</td>\n",
       "        <td>Ellie Andrews has just tied the knot with society aviator King Westley when she is whisked away to her father&#x27;s yacht and out of King&#x27;s clutches. Ellie jumps ship and eventually winds up on a bus headed back to her husband. Reluctantly she must accept the help of out-of- work reporter Peter Warne. Actually, Warne doesn&#x27;t give her any choice: either she sticks with him until he gets her back to her husband, or he&#x27;ll blow the whistle on Ellie to her father. Either way, Peter gets what he wants... a really juicy newspaper story!</td>\n",
       "        <td>11.871424</td>\n",
       "        <td>4500000.0</td>\n",
       "        <td>105.0</td>\n",
       "        <td>Released</td>\n",
       "        <td>TOGETHER... for the first time</td>\n",
       "        <td>7.7</td>\n",
       "        <td>275</td>\n",
       "    </tr>\n",
       "</table>"
      ],
      "text/plain": [
       "[(3059, 'Intolerance', '1916-09-04 00:00:00.000000', 385907, None, 'en', 'Intolerance', 'The story of a poor young woman, separated by prejudice from her husband and baby, is interwoven with tales of intolerance from throughout history.', 3.232447, 8394751.0, 197.0, 'Released', 'The Cruel Hand of Intolerance', 7.4, 60),\n",
       " (3060, 'The Big Parade', '1925-11-05 00:00:00.000000', 245000, None, 'en', 'The Big Parade', \"The story of an idle rich boy who joins the US Army's Rainbow Division and is sent to France to fight in World War I, becomes friends with two working class men, experiences the horrors of trench warfare, and finds love with a French girl.\", 0.785744, 22000000.0, 151.0, 'Released', None, 7.0, 21),\n",
       " (19, 'Metropolis', '1927-01-10 00:00:00.000000', 92620000, None, 'de', 'Metropolis', \"In a futuristic city sharply divided between the working class and the city planners, the son of the city's mastermind falls in love with a working class prophet who predicts the coming of a savior to mediate their differences.\", 32.351527, 650422.0, 153.0, 'Released', 'There can be no understanding between the hands and the brain unless the heart acts as mediator.', 8.0, 657),\n",
       " (905, \"Pandora's Box\", '1929-01-30 00:00:00.000000', 0, None, 'de', 'Die Bnchse der Pandora', 'The rise and inevitable fall of an amoral but naive young woman whose insouciant eroticism inspires lust and violence in those around her.', 1.824184, 0.0, 109.0, 'Released', None, 7.6, 45),\n",
       " (65203, 'The Broadway Melody', '1929-02-08 00:00:00.000000', 379000, None, 'en', 'The Broadway Melody', \"Harriet and Queenie Mahoney, a vaudeville act, come to Broadway, where their friend Eddie Kerns needs them for his number in one of Francis Zanfield' ... (195 characters truncated) ... eenie recognizes, that she is for Jock nothing more than a toy, and it also takes a while till Harriet recognizes, that Eddie is in love with Queenie\", 0.968865, 4358000.0, 100.0, 'Released', \"The pulsating drama of Broadway's bared heart speaks and sings with a voice to stir your soul!\", 5.0, 19),\n",
       " (22301, \"Hell's Angels\", '1930-11-15 00:00:00.000000', 3950000, None, 'en', \"Hell's Angels\", \"Two brothers attending Oxford enlist with the Royal Flying Corps when World War I breaks out. Roy and Monte Rutledge have very different personalitie ... (576 characters truncated) ... t a strategic German munitions facility is a booming success, but with a squadron of fighters bearing down on them afterwards, escape seems unlikely.\", 8.484123, 8000000.0, 127.0, 'Released', \"Howard Hughes' Thrilling Multi-Million Dollar Air Spectacle\", 6.1, 19),\n",
       " (22649, 'A Farewell to Arms', '1932-12-08 00:00:00.000000', 4, None, 'en', 'A Farewell to Arms', \"British nurse Catherine Barkley (Helen Hayes) and American Lieutenant Frederic Henry (Gary Cooper) fall in love during the First World War in Italy.  ... (105 characters truncated) ... the war rages on. Academy Awards winner for Best Cinematography and for Best Sound, Recording. Nominated for Best Picture and for Best Art Direction.\", 1.199451, 25.0, 89.0, 'Released', 'Every woman who has loved will understand', 6.2, 28),\n",
       " (3062, '42nd Street', '1933-02-02 00:00:00.000000', 439000, None, 'en', '42nd Street', 'A producer puts on what may be his last Broadway show, and at the last moment a chorus girl has to replace the star.', 1.933366, 2281000.0, 89.0, 'Released', None, 6.1, 37),\n",
       " (43595, 'She Done Him Wrong', '1933-02-09 00:00:00.000000', 200000, None, 'en', 'She Done Him Wrong', '\"New York singer and nightclub owner Lady Lou has more men friends than you can imagine. Unfortunately one of them is a vicious criminal who\\'s escap ... (52 characters truncated) ... ing she hasn\\'t exactly been faithful in his absence. Help is at hand in the form of young Captain Cummings a local temperance league leader though.\"', 0.622752, 2200000.0, 66.0, 'Released', \"Mae West gives a 'Hot Time' to the nation!\", 5.1, 27),\n",
       " (3078, 'It Happened One Night', '1934-02-22 00:00:00.000000', 325000, None, 'en', 'It Happened One Night', \"Ellie Andrews has just tied the knot with society aviator King Westley when she is whisked away to her father's yacht and out of King's clutches. Ell ... (233 characters truncated) ... ts her back to her husband, or he'll blow the whistle on Ellie to her father. Either way, Peter gets what he wants... a really juicy newspaper story!\", 11.871424, 4500000.0, 105.0, 'Released', 'TOGETHER... for the first time', 7.7, 275)]"
      ]
     },
     "execution_count": 6,
     "metadata": {},
     "output_type": "execute_result"
    }
   ],
   "source": [
    "%%sql \n",
    "SELECT * FROM movies WHERE release_date IS NOT NULL ORDER BY release_date ASC LIMIT 10"
   ]
  },
  {
   "cell_type": "code",
   "execution_count": null,
   "metadata": {},
   "outputs": [],
   "source": []
  },
  {
   "cell_type": "markdown",
   "metadata": {},
   "source": [
    "# Question 3\n",
    "\n",
    "How many unique awards are there in the Oscars table?\n",
    "\n",
    "Options:\n",
    "\n",
    "141\n",
    "53\n",
    "80\n",
    "114"
   ]
  },
  {
   "cell_type": "code",
   "execution_count": 20,
   "metadata": {},
   "outputs": [
    {
     "name": "stdout",
     "output_type": "stream",
     "text": [
      " * sqlite:///C:\\Users\\Jerry\\Documents\\ExploreDataFiles\\SQL\\TMDB-x-2431_exam\\TMDB.db\n",
      "Done.\n"
     ]
    },
    {
     "data": {
      "text/html": [
       "<table>\n",
       "    <tr>\n",
       "        <th>awards</th>\n",
       "    </tr>\n",
       "    <tr>\n",
       "        <td>114</td>\n",
       "    </tr>\n",
       "</table>"
      ],
      "text/plain": [
       "[(114,)]"
      ]
     },
     "execution_count": 20,
     "metadata": {},
     "output_type": "execute_result"
    }
   ],
   "source": [
    "%%sql\n",
    "select count(DISTINCT award) as awards from oscars"
   ]
  },
  {
   "cell_type": "code",
   "execution_count": null,
   "metadata": {},
   "outputs": [],
   "source": []
  },
  {
   "cell_type": "markdown",
   "metadata": {},
   "source": [
    "# Question 4\n",
    "\n",
    "How many movies are there that contain the word “Spider” within their title?\n",
    "\n",
    "Options:\n",
    "\n",
    "0\n",
    "5\n",
    "1\n",
    "9"
   ]
  },
  {
   "cell_type": "code",
   "execution_count": 21,
   "metadata": {},
   "outputs": [
    {
     "name": "stdout",
     "output_type": "stream",
     "text": [
      " * sqlite:///C:\\Users\\Jerry\\Documents\\ExploreDataFiles\\SQL\\TMDB-x-2431_exam\\TMDB.db\n",
      "Done.\n"
     ]
    },
    {
     "data": {
      "text/html": [
       "<table>\n",
       "    <tr>\n",
       "        <th>title containing spider</th>\n",
       "    </tr>\n",
       "    <tr>\n",
       "        <td>9</td>\n",
       "    </tr>\n",
       "</table>"
      ],
      "text/plain": [
       "[(9,)]"
      ]
     },
     "execution_count": 21,
     "metadata": {},
     "output_type": "execute_result"
    }
   ],
   "source": [
    "%%sql\n",
    "\n",
    "with cte_movie_title_count as (\n",
    "select * from movies where title like '%Spider%')\n",
    "select count(title) as [title containing spider] from cte_movie_title_count"
   ]
  },
  {
   "cell_type": "code",
   "execution_count": null,
   "metadata": {},
   "outputs": [],
   "source": []
  },
  {
   "cell_type": "markdown",
   "metadata": {},
   "source": [
    "# Question 5\n",
    "\n",
    "How many movies are there that are both in the \"Thriller\" Genre and contain the keyword “love”?\n",
    "\n",
    "Options:\n",
    "\n",
    "55\n",
    "38\n",
    "14\n",
    "1"
   ]
  },
  {
   "cell_type": "code",
   "execution_count": 23,
   "metadata": {},
   "outputs": [
    {
     "name": "stdout",
     "output_type": "stream",
     "text": [
      " * sqlite:///C:\\Users\\Jerry\\Documents\\ExploreDataFiles\\SQL\\TMDB-x-2431_exam\\TMDB.db\n",
      "Done.\n"
     ]
    },
    {
     "data": {
      "text/html": [
       "<table>\n",
       "    <tr>\n",
       "        <th>movies containing thriller and love</th>\n",
       "    </tr>\n",
       "    <tr>\n",
       "        <td>55</td>\n",
       "    </tr>\n",
       "</table>"
      ],
      "text/plain": [
       "[(55,)]"
      ]
     },
     "execution_count": 23,
     "metadata": {},
     "output_type": "execute_result"
    }
   ],
   "source": [
    "%%sql\n",
    "with cte_movies as (\n",
    "select c.title,a.genre_name,e.keyword_name from genres a \n",
    "left join genremap b on a.genre_id=b.genre_id\n",
    "left join movies c on c.movie_id=b.movie_id\n",
    "left join keywordmap d on d.movie_id=c.movie_id\n",
    "left join keywords e on e.keyword_id=d.keyword_id\n",
    "where a.genre_name='Thriller' and e.keyword_name like'%love%')\n",
    "select count(title) as [movies containing thriller and love] from cte_movies"
   ]
  },
  {
   "cell_type": "code",
   "execution_count": null,
   "metadata": {},
   "outputs": [],
   "source": []
  },
  {
   "cell_type": "markdown",
   "metadata": {},
   "source": [
    "# Question 6\n",
    "\n",
    "How many movies are there that were released between 1 August 2006 ('2006-08-01') and 1 October 2009 ('2009-10-01') that have a popularity score of more than 40 and a budget of less than 50 000 000?\n",
    "\n",
    "Options:\n",
    "\n",
    "28\n",
    "23\n",
    "29\n",
    "35"
   ]
  },
  {
   "cell_type": "code",
   "execution_count": 14,
   "metadata": {},
   "outputs": [
    {
     "name": "stdout",
     "output_type": "stream",
     "text": [
      " * sqlite:///C:\\Users\\Jerry\\Documents\\ExploreDataFiles\\SQL\\TMDB-x-2431_exam\\TMDB.db\n",
      "Done.\n"
     ]
    },
    {
     "data": {
      "text/html": [
       "<table>\n",
       "    <tr>\n",
       "        <th>movies release status</th>\n",
       "    </tr>\n",
       "    <tr>\n",
       "        <td>29</td>\n",
       "    </tr>\n",
       "</table>"
      ],
      "text/plain": [
       "[(29,)]"
      ]
     },
     "execution_count": 14,
     "metadata": {},
     "output_type": "execute_result"
    }
   ],
   "source": [
    "%%sql\n",
    "with cte_movie_release as (\n",
    "select * from movies \n",
    "where release_date between '2006-08-01' and '2009-10-01'\n",
    "and popularity >40 and budget <50000000)\n",
    "select count(*) as [movies release status] from cte_movie_release "
   ]
  },
  {
   "cell_type": "code",
   "execution_count": null,
   "metadata": {},
   "outputs": [],
   "source": []
  },
  {
   "cell_type": "markdown",
   "metadata": {},
   "source": [
    "# Question 7\n",
    "\n",
    "How many unique characters has \"Vin Diesel\" played so far in the database?\n",
    "\n",
    "Options:\n",
    "\n",
    "24\n",
    "19\n",
    "18\n",
    "16"
   ]
  },
  {
   "cell_type": "code",
   "execution_count": 15,
   "metadata": {},
   "outputs": [
    {
     "name": "stdout",
     "output_type": "stream",
     "text": [
      " * sqlite:///C:\\Users\\Jerry\\Documents\\ExploreDataFiles\\SQL\\TMDB-x-2431_exam\\TMDB.db\n",
      "Done.\n"
     ]
    },
    {
     "data": {
      "text/html": [
       "<table>\n",
       "    <tr>\n",
       "        <th>Total movies of Vin Diesel</th>\n",
       "    </tr>\n",
       "    <tr>\n",
       "        <td>19</td>\n",
       "    </tr>\n",
       "</table>"
      ],
      "text/plain": [
       "[(19,)]"
      ]
     },
     "execution_count": 15,
     "metadata": {},
     "output_type": "execute_result"
    }
   ],
   "source": [
    "%%sql\n",
    "with cte_movie_characters as (\n",
    "select a.actor_id,a.actor_name,b.characters,a.gender,c.title from actors a \n",
    "left join casts b on a.actor_id=b.actor_id\n",
    "left join movies c on c.movie_id=b.movie_id\n",
    "where a.actor_name='Vin Diesel')\n",
    "select count(*) as [Total movies of Vin Diesel] from cte_movie_characters \n"
   ]
  },
  {
   "cell_type": "code",
   "execution_count": null,
   "metadata": {},
   "outputs": [],
   "source": []
  },
  {
   "cell_type": "markdown",
   "metadata": {},
   "source": [
    "# Question 8\n",
    "\n",
    "What are the Genres of the movie “The Royal Tenenbaums”?\n",
    "\n",
    "Options:\n",
    "\n",
    "Action, Romance\n",
    "Drama, Comedy\n",
    "Crime, Thriller\n",
    "Drama, Romance"
   ]
  },
  {
   "cell_type": "code",
   "execution_count": 16,
   "metadata": {},
   "outputs": [
    {
     "name": "stdout",
     "output_type": "stream",
     "text": [
      " * sqlite:///C:\\Users\\Jerry\\Documents\\ExploreDataFiles\\SQL\\TMDB-x-2431_exam\\TMDB.db\n",
      "Done.\n"
     ]
    },
    {
     "data": {
      "text/html": [
       "<table>\n",
       "    <tr>\n",
       "        <th>title</th>\n",
       "        <th>genre_name</th>\n",
       "    </tr>\n",
       "    <tr>\n",
       "        <td>The Royal Tenenbaums</td>\n",
       "        <td>Drama</td>\n",
       "    </tr>\n",
       "    <tr>\n",
       "        <td>The Royal Tenenbaums</td>\n",
       "        <td>Comedy</td>\n",
       "    </tr>\n",
       "</table>"
      ],
      "text/plain": [
       "[('The Royal Tenenbaums', 'Drama'), ('The Royal Tenenbaums', 'Comedy')]"
      ]
     },
     "execution_count": 16,
     "metadata": {},
     "output_type": "execute_result"
    }
   ],
   "source": [
    "%%sql\n",
    "with cte_movie_genre as (\n",
    "select a.title,c.genre_name from movies a\n",
    "left join genremap b on a.movie_id=b.movie_id\n",
    "left join genres c on c.genre_id=b.genre_id\n",
    "where title='The Royal Tenenbaums')\n",
    "select * from cte_movie_genre "
   ]
  },
  {
   "cell_type": "code",
   "execution_count": null,
   "metadata": {},
   "outputs": [],
   "source": []
  },
  {
   "cell_type": "markdown",
   "metadata": {},
   "source": [
    "# Question 9\n",
    "\n",
    "What are the three production companies that have the highest movie popularity score on average, as recorded within the database?\n",
    "\n",
    "Options:\n",
    "\n",
    "MCL Films S.A., Turner Pictures, George Stevens Productions\n",
    "The Donners' Company, Bulletproof Cupid and Kinberg Genre\n",
    "Bulletproof Cupid, The Donners' Company, MCL Films S.A\n",
    "B.Sting Entertainment, Illumination Pictures, Aztec Musique"
   ]
  },
  {
   "cell_type": "code",
   "execution_count": 17,
   "metadata": {},
   "outputs": [
    {
     "name": "stdout",
     "output_type": "stream",
     "text": [
      " * sqlite:///C:\\Users\\Jerry\\Documents\\ExploreDataFiles\\SQL\\TMDB-x-2431_exam\\TMDB.db\n",
      "Done.\n"
     ]
    },
    {
     "data": {
      "text/html": [
       "<table>\n",
       "    <tr>\n",
       "        <th>avg_popularity</th>\n",
       "        <th>production_company_name</th>\n",
       "    </tr>\n",
       "    <tr>\n",
       "        <td>514.569956</td>\n",
       "        <td>The Donners&#x27; Company</td>\n",
       "    </tr>\n",
       "    <tr>\n",
       "        <td>481.098624</td>\n",
       "        <td>Bulletproof Cupid</td>\n",
       "    </tr>\n",
       "    <tr>\n",
       "        <td>326.92099900000005</td>\n",
       "        <td>Kinberg Genre</td>\n",
       "    </tr>\n",
       "</table>"
      ],
      "text/plain": [
       "[(514.569956, \"The Donners' Company\"),\n",
       " (481.098624, 'Bulletproof Cupid'),\n",
       " (326.92099900000005, 'Kinberg Genre')]"
      ]
     },
     "execution_count": 17,
     "metadata": {},
     "output_type": "execute_result"
    }
   ],
   "source": [
    "%%sql\n",
    "with cte_avg_production as \n",
    " (Select avg(a.popularity) AS avg_popularity,c.production_company_name From movies a\n",
    "left join productioncompanymap b on a.movie_id=b.movie_id\n",
    "left join productioncompanies c on c.production_company_id=b.production_company_id\n",
    "Group by c.production_company_name order by avg_popularity DESC\n",
    " )\n",
    "select avg_popularity,production_company_name from cte_avg_production limit 3"
   ]
  },
  {
   "cell_type": "code",
   "execution_count": null,
   "metadata": {},
   "outputs": [],
   "source": []
  },
  {
   "cell_type": "markdown",
   "metadata": {},
   "source": [
    "# Question 10\n",
    "\n",
    "How many female actors (i.e. gender = 1) have a name that starts with the letter \"N\"?\n",
    "\n",
    "Options:\n",
    "\n",
    "0\n",
    "355\n",
    "7335\n",
    "1949"
   ]
  },
  {
   "cell_type": "code",
   "execution_count": 18,
   "metadata": {},
   "outputs": [
    {
     "name": "stdout",
     "output_type": "stream",
     "text": [
      " * sqlite:///C:\\Users\\Jerry\\Documents\\ExploreDataFiles\\SQL\\TMDB-x-2431_exam\\TMDB.db\n",
      "Done.\n"
     ]
    },
    {
     "data": {
      "text/html": [
       "<table>\n",
       "    <tr>\n",
       "        <th>Total actor name that starting with N</th>\n",
       "    </tr>\n",
       "    <tr>\n",
       "        <td>354</td>\n",
       "    </tr>\n",
       "</table>"
      ],
      "text/plain": [
       "[(354,)]"
      ]
     },
     "execution_count": 18,
     "metadata": {},
     "output_type": "execute_result"
    }
   ],
   "source": [
    "%%sql\n",
    "with cte_movie_characters as (\n",
    "select  a.actor_id,a.actor_name,b.characters,case a.gender when 1 then 'Female' when 2 then 'Male' end as gender,c.title from actors a \n",
    "left join casts b on a.actor_id=b.actor_id\n",
    "left join movies c on c.movie_id=b.movie_id\n",
    "where a.gender = 1 and  a.actor_name like 'N%')\n",
    "select count(DISTINCT actor_name) as [Total actor name that starting with N] from cte_movie_characters "
   ]
  },
  {
   "cell_type": "code",
   "execution_count": null,
   "metadata": {},
   "outputs": [],
   "source": []
  },
  {
   "cell_type": "markdown",
   "metadata": {},
   "source": [
    "# Question 11\n",
    "\n",
    "Which genre has, on average, the lowest movie popularity score?\n",
    "\n",
    "Options:\n",
    "\n",
    "Science Fiction\n",
    "Animation\n",
    "Documentary\n",
    "Foreign"
   ]
  },
  {
   "cell_type": "code",
   "execution_count": 19,
   "metadata": {},
   "outputs": [
    {
     "name": "stdout",
     "output_type": "stream",
     "text": [
      " * sqlite:///C:\\Users\\Jerry\\Documents\\ExploreDataFiles\\SQL\\TMDB-x-2431_exam\\TMDB.db\n",
      "Done.\n"
     ]
    },
    {
     "data": {
      "text/html": [
       "<table>\n",
       "    <tr>\n",
       "        <th>avg minimum movie score</th>\n",
       "        <th>genre_name</th>\n",
       "    </tr>\n",
       "    <tr>\n",
       "        <td>0.686786794117647</td>\n",
       "        <td>Foreign</td>\n",
       "    </tr>\n",
       "</table>"
      ],
      "text/plain": [
       "[(0.686786794117647, 'Foreign')]"
      ]
     },
     "execution_count": 19,
     "metadata": {},
     "output_type": "execute_result"
    }
   ],
   "source": [
    "%%sql\n",
    "with cte_avg_production as \n",
    " (Select avg(a.popularity) AS avg_popularity,c.genre_name From movies a\n",
    "left join genremap b on a.movie_id=b.movie_id\n",
    "left join genres c on c.genre_id=b.genre_id where c.genre_name is not null\n",
    "Group by c.genre_name order by 1\n",
    " )\n",
    "select min(avg_popularity) as [avg minimum movie score],genre_name from cte_avg_production limit 3"
   ]
  },
  {
   "cell_type": "code",
   "execution_count": null,
   "metadata": {},
   "outputs": [],
   "source": []
  },
  {
   "cell_type": "markdown",
   "metadata": {},
   "source": [
    "# Question 12\n",
    "\n",
    "Which award category has the highest number of actor nominations (actors can be male or female)? (Hint Oscars.name contains both actors names and film names)\n",
    "\n",
    "Options:\n",
    "\n",
    "Special Achievement Award\n",
    "Actor in a Supporting Role\n",
    "Actress in a Supporting Role\n",
    "Best Picture"
   ]
  },
  {
   "cell_type": "code",
   "execution_count": null,
   "metadata": {},
   "outputs": [],
   "source": [
    "%%sql\n"
   ]
  },
  {
   "cell_type": "code",
   "execution_count": null,
   "metadata": {},
   "outputs": [],
   "source": []
  },
  {
   "cell_type": "markdown",
   "metadata": {},
   "source": [
    "# Question 13\n",
    "\n",
    "For all of the entries in the Oscars table before 1934, the year is stored differently than in all the subsequent years. E.g the year would be saved as “1932/1933” instead of just “1933” (the second indicated year). Which of the following options would be the appropriate code to update this column to have the format of the year be consistent throughout the entire table (second indicated year only shown)?\n",
    "\n",
    "Options:\n",
    "\n",
    "UPDATE Oscars SET year = RIGHT(year, -4)\n",
    "UPDATE Oscars SET year = SELECT substr(year, -4)\n",
    "UPDATE Oscars SET year = substr(year, -4)\n",
    "UPDATE Oscars year = substr(year, 4)"
   ]
  },
  {
   "cell_type": "code",
   "execution_count": null,
   "metadata": {},
   "outputs": [],
   "source": [
    "%%sql\n",
    "UPDATE Oscars SET year = substr(year, -4)"
   ]
  },
  {
   "cell_type": "code",
   "execution_count": null,
   "metadata": {},
   "outputs": [],
   "source": []
  },
  {
   "cell_type": "markdown",
   "metadata": {},
   "source": [
    "# Question 14\n",
    "\n",
    "DStv will be having a special week dedicated to the actor Alan Rickman. Which of the following queries would create a new view that shows the titles, release dates, taglines, and overviews of all movies that Alan Rickman has played in?\n",
    "\n",
    "Options:\n",
    "\n",
    "SELECT title, release_date, tagline, overview FROM Movies LEFT JOIN Casts ON Casts.movie_id = Movies.movie_id Left JOIN Actors ON Casts.actor_id = Actors.actor_id WHERE Actors.actor_name = 'Alan Rickman' AS VIEW Alan_Rickman_Movies\n",
    "\n",
    "CREATE VIEW Alan_Rickman_Movies AS\n",
    "SELECT title, release_date, tagline, overview FROM Movies\n",
    "LEFT JOIN Casts ON Casts.movie_id = Movies.movie_id Left JOIN Actors ON Casts.actor_id = Actors.actor_id WHERE Actors.actor_name = 'Alan Rickman'\n",
    "\n",
    "CREATE NEW VIEW Name = Alan_Rickman_Movies AS SELECT title, release_date, tagline, overview FROM Movies LEFT JOIN Casts ON Casts.movie_id = Movies.movie_id Left JOIN Actors ON Casts.actor_id = Actors.actor_id WHERE Actors.actor_name = 'Alan Rickman'\n",
    "\n",
    "VIEW Alan_Rickman_Movies AS SELECT title, release_date, tagline, overview FROM Movies LEFT JOIN Casts ON Casts.movie_id = Movies.movie_id Left JOIN Actors ON Casts.actor_id = Actors.actor_id WHERE Actors.actor_name = 'Alan Rickman'"
   ]
  },
  {
   "cell_type": "code",
   "execution_count": null,
   "metadata": {},
   "outputs": [],
   "source": [
    "%%sql\n",
    "CREATE VIEW Alan_Rickman_Movies AS SELECT title, release_date, tagline, overview FROM Movies\n",
    "LEFT JOIN Casts ON Casts.movie_id = Movies.movie_id \n",
    "Left JOIN Actors ON Casts.actor_id = Actors.actor_id WHERE Actors.actor_name = 'Alan Rickman'"
   ]
  },
  {
   "cell_type": "code",
   "execution_count": null,
   "metadata": {},
   "outputs": [],
   "source": []
  },
  {
   "cell_type": "markdown",
   "metadata": {},
   "source": [
    "# Question 15\n",
    "\n",
    "Which of the statements about database normalisation is true?\n",
    "\n",
    "Statements:\n",
    "\n",
    "i) Database normalisation improves data redundancy, saves on storage space and fulfills the requirement of records to be uniquely identified.\n",
    "\n",
    "ii) Database normalisation supports up to 3rd normal form and removes all data anomalies.\n",
    "\n",
    "iii) Database normalisation removes inconsistencies which may cause the analysis of our data to be more complicated.\n",
    "\n",
    "iv) Database normalisation causes data redundancy, increases storage space and creates duplicate records.\n",
    "\n",
    "Options:\n",
    "\n",
    "(i), (ii)\n",
    "(i), (iii)\n",
    "(ii), (iv)\n",
    "(iii), (iv)"
   ]
  },
  {
   "cell_type": "code",
   "execution_count": null,
   "metadata": {},
   "outputs": [],
   "source": [
    "(i), (iii)"
   ]
  }
 ],
 "metadata": {
  "kernelspec": {
   "display_name": "Python 3",
   "language": "python",
   "name": "python3"
  },
  "language_info": {
   "codemirror_mode": {
    "name": "ipython",
    "version": 3
   },
   "file_extension": ".py",
   "mimetype": "text/x-python",
   "name": "python",
   "nbconvert_exporter": "python",
   "pygments_lexer": "ipython3",
   "version": "3.7.6"
  }
 },
 "nbformat": 4,
 "nbformat_minor": 5
}
